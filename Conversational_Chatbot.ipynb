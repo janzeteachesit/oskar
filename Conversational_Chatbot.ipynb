{
  "nbformat": 4,
  "nbformat_minor": 0,
  "metadata": {
    "colab": {
      "name": "Conversational_Chatbot.ipynb",
      "version": "0.3.2",
      "provenance": [],
      "include_colab_link": true
    },
    "kernelspec": {
      "name": "python3",
      "display_name": "Python 3"
    },
    "accelerator": "GPU"
  },
  "cells": [
    {
      "cell_type": "markdown",
      "metadata": {
        "id": "view-in-github",
        "colab_type": "text"
      },
      "source": [
        "<a href=\"https://colab.research.google.com/github/janzeteachesit/oskar/blob/master/Conversational_Chatbot.ipynb\" target=\"_parent\"><img src=\"https://colab.research.google.com/assets/colab-badge.svg\" alt=\"Open In Colab\"/></a>"
      ]
    },
    {
      "metadata": {
        "id": "3oxVq6vQ76r7",
        "colab_type": "text"
      },
      "cell_type": "markdown",
      "source": [
        "# Building a Conversational Chatbot for Slack using Rasa and Python -Part 1"
      ]
    },
    {
      "metadata": {
        "id": "kIFYA-Kp8aK4",
        "colab_type": "text"
      },
      "cell_type": "markdown",
      "source": [
        "## Starting Jupyter Notebook with necessary imports"
      ]
    },
    {
      "metadata": {
        "id": "R0_7gOmu0r3v",
        "colab_type": "code",
        "colab": {}
      },
      "cell_type": "code",
      "source": [
        "%matplotlib inline\n",
        "\n",
        "import logging, io, json, warnings\n",
        "logging.basicConfig(level=\"INFO\")\n",
        "warnings.filterwarnings('ignore')\n",
        "\n"
      ],
      "execution_count": 0,
      "outputs": []
    },
    {
      "metadata": {
        "id": "IVAF41hr8jU5",
        "colab_type": "text"
      },
      "cell_type": "markdown",
      "source": [
        "# Installations\n",
        "* Rasa NLU\n",
        "* Rasa Core\n",
        "* SpaCy Language Model"
      ]
    },
    {
      "metadata": {
        "id": "UsvAOHF_1dAY",
        "colab_type": "code",
        "outputId": "f65c2c83-e7ae-46ef-e800-e43dcb854766",
        "colab": {
          "base_uri": "https://localhost:8080/",
          "height": 4049
        }
      },
      "cell_type": "code",
      "source": [
        "import sys\n",
        "python = sys.executable\n",
        "\n",
        "# In your environment run:\n",
        "!{python} -m pip install -U rasa_core==0.9.6 rasa_nlu[spacy];"
      ],
      "execution_count": 0,
      "outputs": [
        {
          "output_type": "stream",
          "text": [
            "Collecting rasa_core==0.9.6\n",
            "\u001b[?25l  Downloading https://files.pythonhosted.org/packages/72/de/82e762685a991351a9f89d934b1b25fe04d10462cf4017f93227cb4d9058/rasa_core-0.9.6-py2.py3-none-any.whl (125kB)\n",
            "\u001b[K    100% |████████████████████████████████| 133kB 6.1MB/s \n",
            "\u001b[?25hCollecting rasa_nlu[spacy]\n",
            "\u001b[?25l  Downloading https://files.pythonhosted.org/packages/a5/d2/2e6a081f3d222df01a3d941d7029e52c20619d53d557e721f096962d7293/rasa_nlu-0.13.8-py2.py3-none-any.whl (145kB)\n",
            "\u001b[K    100% |████████████████████████████████| 153kB 13.5MB/s \n",
            "\u001b[?25hRequirement already satisfied, skipping upgrade: h5py~=2.0 in /usr/local/lib/python3.6/dist-packages (from rasa_core==0.9.6) (2.8.0)\n",
            "Collecting python-telegram-bot~=10.0 (from rasa_core==0.9.6)\n",
            "\u001b[?25l  Downloading https://files.pythonhosted.org/packages/f1/51/d1bd383522c12b313eddd7b97b8e7d6cd2a8e3b44b8ff3c88e4a7b045cc8/python_telegram_bot-10.1.0-py2.py3-none-any.whl (298kB)\n",
            "\u001b[K    100% |████████████████████████████████| 307kB 17.3MB/s \n",
            "\u001b[?25hCollecting redis~=2.0 (from rasa_core==0.9.6)\n",
            "\u001b[?25l  Downloading https://files.pythonhosted.org/packages/3b/f6/7a76333cf0b9251ecf49efff635015171843d9b977e4ffcf59f9c4428052/redis-2.10.6-py2.py3-none-any.whl (64kB)\n",
            "\u001b[K    100% |████████████████████████████████| 71kB 25.0MB/s \n",
            "\u001b[?25hCollecting tensorflow<1.9,>=1.7 (from rasa_core==0.9.6)\n",
            "\u001b[?25l  Downloading https://files.pythonhosted.org/packages/22/c6/d08f7c549330c2acc1b18b5c1f0f8d9d2af92f54d56861f331f372731671/tensorflow-1.8.0-cp36-cp36m-manylinux1_x86_64.whl (49.1MB)\n",
            "\u001b[K    100% |████████████████████████████████| 49.1MB 666kB/s \n",
            "\u001b[?25hCollecting ruamel.yaml~=0.15.0 (from rasa_core==0.9.6)\n",
            "\u001b[?25l  Downloading https://files.pythonhosted.org/packages/34/f0/483df7eba81448d377ee3130e249384f7a6a2ac3bc308e73378fc3d76223/ruamel.yaml-0.15.84-cp36-cp36m-manylinux1_x86_64.whl (663kB)\n",
            "\u001b[K    100% |████████████████████████████████| 665kB 16.5MB/s \n",
            "\u001b[?25hCollecting mattermostwrapper~=2.0 (from rasa_core==0.9.6)\n",
            "  Downloading https://files.pythonhosted.org/packages/93/70/203660597d12788e958dd691aa11c3c29caa075eadb2ce94d2eb53099d1b/mattermostwrapper-2.1-py2.py3-none-any.whl\n",
            "Collecting apscheduler~=3.0 (from rasa_core==0.9.6)\n",
            "\u001b[?25l  Downloading https://files.pythonhosted.org/packages/97/3a/fa3213cc325091b7729616594611fff31d72c2d4d590418c3efdf7424ae2/APScheduler-3.5.3-py2.py3-none-any.whl (57kB)\n",
            "\u001b[K    100% |████████████████████████████████| 61kB 23.5MB/s \n",
            "\u001b[?25hRequirement already satisfied, skipping upgrade: keras~=2.0 in /usr/local/lib/python3.6/dist-packages (from rasa_core==0.9.6) (2.2.4)\n",
            "Requirement already satisfied, skipping upgrade: future~=0.16 in /usr/local/lib/python3.6/dist-packages (from rasa_core==0.9.6) (0.16.0)\n",
            "Collecting graphviz~=0.8.0 (from rasa_core==0.9.6)\n",
            "  Downloading https://files.pythonhosted.org/packages/53/39/4ab213673844e0c004bed8a0781a0721a3f6bb23eb8854ee75c236428892/graphviz-0.8.4-py2.py3-none-any.whl\n",
            "Collecting ConfigArgParse~=0.13.0 (from rasa_core==0.9.6)\n",
            "  Downloading https://files.pythonhosted.org/packages/77/61/ae928ce6ab85d4479ea198488cf5ffa371bd4ece2030c0ee85ff668deac5/ConfigArgParse-0.13.0.tar.gz\n",
            "Collecting pykwalify<=1.6.0 (from rasa_core==0.9.6)\n",
            "  Downloading https://files.pythonhosted.org/packages/6e/59/55c32d59b462a9c3fae2ab25f179f91d61617c0215e9f8ba3f4966b2b8b1/pykwalify-1.6.0-py2.py3-none-any.whl\n",
            "Requirement already satisfied, skipping upgrade: six~=1.0 in /usr/local/lib/python3.6/dist-packages (from rasa_core==0.9.6) (1.11.0)\n",
            "Collecting colorhash~=1.0 (from rasa_core==0.9.6)\n",
            "  Downloading https://files.pythonhosted.org/packages/0e/e1/50dbc513aa74e99eca4c47f2a8206711f0bec436fdddd95eebaf7eaaa1aa/colorhash-1.0.2-py2.py3-none-any.whl\n",
            "Collecting flask-cors~=3.0 (from rasa_core==0.9.6)\n",
            "  Downloading https://files.pythonhosted.org/packages/65/cb/683f71ff8daa3aea0a5cbb276074de39f9ab66d3fbb8ad5efb5bb83e90d2/Flask_Cors-3.0.7-py2.py3-none-any.whl\n",
            "Collecting typing~=3.0 (from rasa_core==0.9.6)\n",
            "  Downloading https://files.pythonhosted.org/packages/4a/bd/eee1157fc2d8514970b345d69cb9975dcd1e42cd7e61146ed841f6e68309/typing-3.6.6-py3-none-any.whl\n",
            "Collecting fbmessenger~=5.0 (from rasa_core==0.9.6)\n",
            "  Downloading https://files.pythonhosted.org/packages/1d/c2/3f74cbd68fcbb9680c4bf6434f3c08c9d90a0ddd1e94b954db7382264ef7/fbmessenger-5.3.2-py2.py3-none-any.whl\n",
            "Collecting fakeredis~=0.10.0 (from rasa_core==0.9.6)\n",
            "  Downloading https://files.pythonhosted.org/packages/64/bd/2756ddf350c4bb308e3255f9dcd6610f8b01344947bf74d5d166dc66b0a2/fakeredis-0.10.3-py2.py3-none-any.whl\n",
            "Collecting twilio~=6.0 (from rasa_core==0.9.6)\n",
            "\u001b[?25l  Downloading https://files.pythonhosted.org/packages/21/2e/91af5c8e20400792e62c19bacc197c4b7b8a7fbef1cac5ec9c73944facff/twilio-6.22.1-py2.py3-none-any.whl (986kB)\n",
            "\u001b[K    100% |████████████████████████████████| 993kB 15.5MB/s \n",
            "\u001b[?25hRequirement already satisfied, skipping upgrade: numpy~=1.13 in /usr/local/lib/python3.6/dist-packages (from rasa_core==0.9.6) (1.14.6)\n",
            "Requirement already satisfied, skipping upgrade: requests~=2.15 in /usr/local/lib/python3.6/dist-packages (from rasa_core==0.9.6) (2.18.4)\n",
            "Requirement already satisfied, skipping upgrade: tqdm~=4.0 in /usr/local/lib/python3.6/dist-packages (from rasa_core==0.9.6) (4.28.1)\n",
            "Requirement already satisfied, skipping upgrade: flask~=1.0 in /usr/local/lib/python3.6/dist-packages (from rasa_core==0.9.6) (1.0.2)\n",
            "Requirement already satisfied, skipping upgrade: networkx~=2.0 in /usr/local/lib/python3.6/dist-packages (from rasa_core==0.9.6) (2.2)\n",
            "Collecting slackclient~=1.0 (from rasa_core==0.9.6)\n",
            "  Downloading https://files.pythonhosted.org/packages/0d/2f/1378e64a843a5a8a83d73caa59ac88c36c67e2b41ac0fab3422080ff13bd/slackclient-1.3.0-py2.py3-none-any.whl\n",
            "Collecting jsonpickle~=0.9.0 (from rasa_core==0.9.6)\n",
            "\u001b[?25l  Downloading https://files.pythonhosted.org/packages/32/d5/2f47f03d3f64c31b0d7070b488274631d7567c36e81a9f744e6638bb0f0d/jsonpickle-0.9.6.tar.gz (67kB)\n",
            "\u001b[K    100% |████████████████████████████████| 71kB 23.8MB/s \n",
            "\u001b[?25hCollecting coloredlogs~=10.0 (from rasa_core==0.9.6)\n",
            "\u001b[?25l  Downloading https://files.pythonhosted.org/packages/08/0f/7877fc42fff0b9d70b6442df62d53b3868d3a6ad1b876bdb54335b30ff23/coloredlogs-10.0-py2.py3-none-any.whl (47kB)\n",
            "\u001b[K    100% |████████████████████████████████| 51kB 21.5MB/s \n",
            "\u001b[?25hCollecting scikit-learn~=0.19.0 (from rasa_core==0.9.6)\n",
            "\u001b[?25l  Downloading https://files.pythonhosted.org/packages/f9/c8/8db4108aba5e2166cd2ea4eafa1a4b82f89240a1fa85733029cc2358ad1f/scikit_learn-0.19.2-cp36-cp36m-manylinux1_x86_64.whl (4.9MB)\n",
            "\u001b[K    100% |████████████████████████████████| 4.9MB 6.6MB/s \n",
            "\u001b[?25hCollecting klein (from rasa_nlu[spacy])\n",
            "  Downloading https://files.pythonhosted.org/packages/8a/6b/adc97a7bb3fb781fdd9e49177ad873c1479f87b9745271cbeda81cbb9cc8/klein-17.10.0-py2.py3-none-any.whl\n",
            "Requirement already satisfied, skipping upgrade: matplotlib~=2.0 in /usr/local/lib/python3.6/dist-packages (from rasa_nlu[spacy]) (2.1.2)\n",
            "Requirement already satisfied, skipping upgrade: packaging in /usr/local/lib/python3.6/dist-packages (from rasa_nlu[spacy]) (18.0)\n",
            "Requirement already satisfied, skipping upgrade: pathlib in /usr/local/lib/python3.6/dist-packages (from rasa_nlu[spacy]) (1.0.1)\n",
            "Collecting simplejson (from rasa_nlu[spacy])\n",
            "\u001b[?25l  Downloading https://files.pythonhosted.org/packages/e3/24/c35fb1c1c315fc0fffe61ea00d3f88e85469004713dab488dee4f35b0aff/simplejson-3.16.0.tar.gz (81kB)\n",
            "\u001b[K    100% |████████████████████████████████| 81kB 22.7MB/s \n",
            "\u001b[?25hRequirement already satisfied, skipping upgrade: gevent in /usr/local/lib/python3.6/dist-packages (from rasa_nlu[spacy]) (1.3.7)\n",
            "Requirement already satisfied, skipping upgrade: pyyaml in /usr/local/lib/python3.6/dist-packages (from rasa_nlu[spacy]) (3.13)\n",
            "Requirement already satisfied, skipping upgrade: cloudpickle in /usr/local/lib/python3.6/dist-packages (from rasa_nlu[spacy]) (0.6.1)\n",
            "Requirement already satisfied, skipping upgrade: boto3 in /usr/local/lib/python3.6/dist-packages (from rasa_nlu[spacy]) (1.9.72)\n",
            "Requirement already satisfied, skipping upgrade: jsonschema in /usr/local/lib/python3.6/dist-packages (from rasa_nlu[spacy]) (2.6.0)\n",
            "Collecting sklearn-crfsuite; extra == \"spacy\" (from rasa_nlu[spacy])\n",
            "  Downloading https://files.pythonhosted.org/packages/25/74/5b7befa513482e6dee1f3dd68171a6c9dfc14c0eaa00f885ffeba54fe9b0/sklearn_crfsuite-0.3.6-py2.py3-none-any.whl\n",
            "Requirement already satisfied, skipping upgrade: scipy; extra == \"spacy\" in /usr/local/lib/python3.6/dist-packages (from rasa_nlu[spacy]) (1.1.0)\n",
            "Collecting spacy<=2.0.12,>2.0; extra == \"spacy\" (from rasa_nlu[spacy])\n",
            "\u001b[?25l  Downloading https://files.pythonhosted.org/packages/24/de/ac14cd453c98656d6738a5669f96a4ac7f668493d5e6b78227ac933c5fd4/spacy-2.0.12.tar.gz (22.0MB)\n",
            "\u001b[K    100% |████████████████████████████████| 22.0MB 1.5MB/s \n",
            "\u001b[?25hRequirement already satisfied, skipping upgrade: certifi in /usr/local/lib/python3.6/dist-packages (from python-telegram-bot~=10.0->rasa_core==0.9.6) (2018.11.29)\n",
            "Collecting tensorboard<1.9.0,>=1.8.0 (from tensorflow<1.9,>=1.7->rasa_core==0.9.6)\n",
            "\u001b[?25l  Downloading https://files.pythonhosted.org/packages/59/a6/0ae6092b7542cfedba6b2a1c9b8dceaf278238c39484f3ba03b03f07803c/tensorboard-1.8.0-py3-none-any.whl (3.1MB)\n",
            "\u001b[K    100% |████████████████████████████████| 3.1MB 10.4MB/s \n",
            "\u001b[?25hRequirement already satisfied, skipping upgrade: astor>=0.6.0 in /usr/local/lib/python3.6/dist-packages (from tensorflow<1.9,>=1.7->rasa_core==0.9.6) (0.7.1)\n",
            "Requirement already satisfied, skipping upgrade: protobuf>=3.4.0 in /usr/local/lib/python3.6/dist-packages (from tensorflow<1.9,>=1.7->rasa_core==0.9.6) (3.6.1)\n",
            "Requirement already satisfied, skipping upgrade: termcolor>=1.1.0 in /usr/local/lib/python3.6/dist-packages (from tensorflow<1.9,>=1.7->rasa_core==0.9.6) (1.1.0)\n",
            "Requirement already satisfied, skipping upgrade: grpcio>=1.8.6 in /usr/local/lib/python3.6/dist-packages (from tensorflow<1.9,>=1.7->rasa_core==0.9.6) (1.15.0)\n",
            "Requirement already satisfied, skipping upgrade: wheel>=0.26 in /usr/local/lib/python3.6/dist-packages (from tensorflow<1.9,>=1.7->rasa_core==0.9.6) (0.32.3)\n",
            "Requirement already satisfied, skipping upgrade: absl-py>=0.1.6 in /usr/local/lib/python3.6/dist-packages (from tensorflow<1.9,>=1.7->rasa_core==0.9.6) (0.6.1)\n",
            "Requirement already satisfied, skipping upgrade: gast>=0.2.0 in /usr/local/lib/python3.6/dist-packages (from tensorflow<1.9,>=1.7->rasa_core==0.9.6) (0.2.0)\n",
            "Collecting tzlocal>=1.2 (from apscheduler~=3.0->rasa_core==0.9.6)\n",
            "  Downloading https://files.pythonhosted.org/packages/cb/89/e3687d3ed99bc882793f82634e9824e62499fdfdc4b1ae39e211c5b05017/tzlocal-1.5.1.tar.gz\n",
            "Requirement already satisfied, skipping upgrade: pytz in /usr/local/lib/python3.6/dist-packages (from apscheduler~=3.0->rasa_core==0.9.6) (2018.7)\n",
            "Requirement already satisfied, skipping upgrade: setuptools>=0.7 in /usr/local/lib/python3.6/dist-packages (from apscheduler~=3.0->rasa_core==0.9.6) (40.6.3)\n",
            "Requirement already satisfied, skipping upgrade: keras-preprocessing>=1.0.5 in /usr/local/lib/python3.6/dist-packages (from keras~=2.0->rasa_core==0.9.6) (1.0.5)\n",
            "Requirement already satisfied, skipping upgrade: keras-applications>=1.0.6 in /usr/local/lib/python3.6/dist-packages (from keras~=2.0->rasa_core==0.9.6) (1.0.6)\n",
            "Requirement already satisfied, skipping upgrade: docopt>=0.6.2 in /usr/local/lib/python3.6/dist-packages (from pykwalify<=1.6.0->rasa_core==0.9.6) (0.6.2)\n",
            "Requirement already satisfied, skipping upgrade: python-dateutil>=2.4.2 in /usr/local/lib/python3.6/dist-packages (from pykwalify<=1.6.0->rasa_core==0.9.6) (2.5.3)\n",
            "Collecting PyJWT>=1.4.2 (from twilio~=6.0->rasa_core==0.9.6)\n",
            "  Downloading https://files.pythonhosted.org/packages/87/8b/6a9f14b5f781697e51259d81657e6048fd31a113229cf346880bb7545565/PyJWT-1.7.1-py2.py3-none-any.whl\n",
            "Requirement already satisfied, skipping upgrade: pysocks; python_version >= \"3.0\" in /usr/local/lib/python3.6/dist-packages (from twilio~=6.0->rasa_core==0.9.6) (1.6.8)\n",
            "Requirement already satisfied, skipping upgrade: urllib3<1.23,>=1.21.1 in /usr/local/lib/python3.6/dist-packages (from requests~=2.15->rasa_core==0.9.6) (1.22)\n",
            "Requirement already satisfied, skipping upgrade: idna<2.7,>=2.5 in /usr/local/lib/python3.6/dist-packages (from requests~=2.15->rasa_core==0.9.6) (2.6)\n",
            "Requirement already satisfied, skipping upgrade: chardet<3.1.0,>=3.0.2 in /usr/local/lib/python3.6/dist-packages (from requests~=2.15->rasa_core==0.9.6) (3.0.4)\n",
            "Requirement already satisfied, skipping upgrade: itsdangerous>=0.24 in /usr/local/lib/python3.6/dist-packages (from flask~=1.0->rasa_core==0.9.6) (1.1.0)\n",
            "Requirement already satisfied, skipping upgrade: click>=5.1 in /usr/local/lib/python3.6/dist-packages (from flask~=1.0->rasa_core==0.9.6) (7.0)\n",
            "Requirement already satisfied, skipping upgrade: Jinja2>=2.10 in /usr/local/lib/python3.6/dist-packages (from flask~=1.0->rasa_core==0.9.6) (2.10)\n",
            "Requirement already satisfied, skipping upgrade: Werkzeug>=0.14 in /usr/local/lib/python3.6/dist-packages (from flask~=1.0->rasa_core==0.9.6) (0.14.1)\n",
            "Requirement already satisfied, skipping upgrade: decorator>=4.3.0 in /usr/local/lib/python3.6/dist-packages (from networkx~=2.0->rasa_core==0.9.6) (4.3.0)\n",
            "Collecting websocket-client<1.0a0,>=0.35 (from slackclient~=1.0->rasa_core==0.9.6)\n",
            "\u001b[?25l  Downloading https://files.pythonhosted.org/packages/26/2d/f749a5c82f6192d77ed061a38e02001afcba55fe8477336d26a950ab17ce/websocket_client-0.54.0-py2.py3-none-any.whl (200kB)\n",
            "\u001b[K    100% |████████████████████████████████| 204kB 27.8MB/s \n",
            "\u001b[?25hCollecting humanfriendly>=4.7 (from coloredlogs~=10.0->rasa_core==0.9.6)\n",
            "\u001b[?25l  Downloading https://files.pythonhosted.org/packages/79/1e/13d96248e3fcaa7777b61fa889feab44865c85e524bbd667acfa0d8b66e3/humanfriendly-4.17-py2.py3-none-any.whl (72kB)\n",
            "\u001b[K    100% |████████████████████████████████| 81kB 24.1MB/s \n",
            "\u001b[?25hCollecting Twisted>=15.5 (from klein->rasa_nlu[spacy])\n",
            "\u001b[?25l  Downloading https://files.pythonhosted.org/packages/5d/0e/a72d85a55761c2c3ff1cb968143a2fd5f360220779ed90e0fadf4106d4f2/Twisted-18.9.0.tar.bz2 (3.1MB)\n",
            "\u001b[K    100% |████████████████████████████████| 3.1MB 10.5MB/s \n",
            "\u001b[?25hCollecting incremental (from klein->rasa_nlu[spacy])\n",
            "  Downloading https://files.pythonhosted.org/packages/f5/1d/c98a587dc06e107115cf4a58b49de20b19222c83d75335a192052af4c4b7/incremental-17.5.0-py2.py3-none-any.whl\n",
            "Requirement already satisfied, skipping upgrade: cycler>=0.10 in /usr/local/lib/python3.6/dist-packages (from matplotlib~=2.0->rasa_nlu[spacy]) (0.10.0)\n",
            "Requirement already satisfied, skipping upgrade: pyparsing!=2.0.4,!=2.1.2,!=2.1.6,>=2.0.1 in /usr/local/lib/python3.6/dist-packages (from matplotlib~=2.0->rasa_nlu[spacy]) (2.3.0)\n",
            "Requirement already satisfied, skipping upgrade: greenlet>=0.4.14; platform_python_implementation == \"CPython\" in /usr/local/lib/python3.6/dist-packages (from gevent->rasa_nlu[spacy]) (0.4.15)\n",
            "Requirement already satisfied, skipping upgrade: jmespath<1.0.0,>=0.7.1 in /usr/local/lib/python3.6/dist-packages (from boto3->rasa_nlu[spacy]) (0.9.3)\n",
            "Requirement already satisfied, skipping upgrade: botocore<1.13.0,>=1.12.72 in /usr/local/lib/python3.6/dist-packages (from boto3->rasa_nlu[spacy]) (1.12.72)\n",
            "Requirement already satisfied, skipping upgrade: s3transfer<0.2.0,>=0.1.10 in /usr/local/lib/python3.6/dist-packages (from boto3->rasa_nlu[spacy]) (0.1.13)\n",
            "Collecting python-crfsuite>=0.8.3 (from sklearn-crfsuite; extra == \"spacy\"->rasa_nlu[spacy])\n",
            "\u001b[?25l  Downloading https://files.pythonhosted.org/packages/2f/86/cfcd71edca9d25d3d331209a20f6314b6f3f134c29478f90559cee9ce091/python_crfsuite-0.9.6-cp36-cp36m-manylinux1_x86_64.whl (754kB)\n",
            "\u001b[K    100% |████████████████████████████████| 757kB 18.8MB/s \n",
            "\u001b[?25hRequirement already satisfied, skipping upgrade: tabulate in /usr/local/lib/python3.6/dist-packages (from sklearn-crfsuite; extra == \"spacy\"->rasa_nlu[spacy]) (0.8.2)\n",
            "Collecting murmurhash<0.29,>=0.28 (from spacy<=2.0.12,>2.0; extra == \"spacy\"->rasa_nlu[spacy])\n",
            "  Downloading https://files.pythonhosted.org/packages/82/55/7f050e9f73c9a58df219c63e77304b0ff01676847061dc99abb484cff3a8/murmurhash-0.28.0-cp36-cp36m-manylinux1_x86_64.whl\n",
            "Collecting cymem<1.32,>=1.30 (from spacy<=2.0.12,>2.0; extra == \"spacy\"->rasa_nlu[spacy])\n",
            "  Downloading https://files.pythonhosted.org/packages/a5/0f/d29aa68c55db37844c77e7e96143bd96651fd0f4453c9f6ee043ac846b77/cymem-1.31.2-cp36-cp36m-manylinux1_x86_64.whl\n",
            "Collecting preshed<2.0.0,>=1.0.0 (from spacy<=2.0.12,>2.0; extra == \"spacy\"->rasa_nlu[spacy])\n",
            "\u001b[?25l  Downloading https://files.pythonhosted.org/packages/12/88/57a818051f3d71e800bfb7ba4df56d3ea5793482ef11f1d2109b726f3bac/preshed-1.0.1-cp36-cp36m-manylinux1_x86_64.whl (80kB)\n",
            "\u001b[K    100% |████████████████████████████████| 81kB 27.9MB/s \n",
            "\u001b[?25hCollecting thinc<6.11.0,>=6.10.3 (from spacy<=2.0.12,>2.0; extra == \"spacy\"->rasa_nlu[spacy])\n",
            "\u001b[?25l  Downloading https://files.pythonhosted.org/packages/94/b1/47a88072d0a38b3594c0a638a62f9ef7c742b8b8a87f7b105f7ed720b14b/thinc-6.10.3.tar.gz (1.2MB)\n",
            "\u001b[K    100% |████████████████████████████████| 1.2MB 16.8MB/s \n",
            "\u001b[?25hRequirement already satisfied, skipping upgrade: plac<1.0.0,>=0.9.6 in /usr/local/lib/python3.6/dist-packages (from spacy<=2.0.12,>2.0; extra == \"spacy\"->rasa_nlu[spacy]) (0.9.6)\n",
            "Requirement already satisfied, skipping upgrade: ujson>=1.35 in /usr/local/lib/python3.6/dist-packages (from spacy<=2.0.12,>2.0; extra == \"spacy\"->rasa_nlu[spacy]) (1.35)\n",
            "Requirement already satisfied, skipping upgrade: dill<0.3,>=0.2 in /usr/local/lib/python3.6/dist-packages (from spacy<=2.0.12,>2.0; extra == \"spacy\"->rasa_nlu[spacy]) (0.2.8.2)\n",
            "Collecting regex==2017.4.5 (from spacy<=2.0.12,>2.0; extra == \"spacy\"->rasa_nlu[spacy])\n",
            "\u001b[?25l  Downloading https://files.pythonhosted.org/packages/36/62/c0c0d762ffd4ffaf39f372eb8561b8d491a11ace5a7884610424a8b40f95/regex-2017.04.05.tar.gz (601kB)\n",
            "\u001b[K    100% |████████████████████████████████| 604kB 16.0MB/s \n",
            "\u001b[?25hCollecting bleach==1.5.0 (from tensorboard<1.9.0,>=1.8.0->tensorflow<1.9,>=1.7->rasa_core==0.9.6)\n",
            "  Downloading https://files.pythonhosted.org/packages/33/70/86c5fec937ea4964184d4d6c4f0b9551564f821e1c3575907639036d9b90/bleach-1.5.0-py2.py3-none-any.whl\n",
            "Requirement already satisfied, skipping upgrade: markdown>=2.6.8 in /usr/local/lib/python3.6/dist-packages (from tensorboard<1.9.0,>=1.8.0->tensorflow<1.9,>=1.7->rasa_core==0.9.6) (3.0.1)\n",
            "Collecting html5lib==0.9999999 (from tensorboard<1.9.0,>=1.8.0->tensorflow<1.9,>=1.7->rasa_core==0.9.6)\n",
            "\u001b[?25l  Downloading https://files.pythonhosted.org/packages/ae/ae/bcb60402c60932b32dfaf19bb53870b29eda2cd17551ba5639219fb5ebf9/html5lib-0.9999999.tar.gz (889kB)\n",
            "\u001b[K    100% |████████████████████████████████| 890kB 15.2MB/s \n",
            "\u001b[?25hRequirement already satisfied, skipping upgrade: MarkupSafe>=0.23 in /usr/local/lib/python3.6/dist-packages (from Jinja2>=2.10->flask~=1.0->rasa_core==0.9.6) (1.1.0)\n",
            "Collecting zope.interface>=4.4.2 (from Twisted>=15.5->klein->rasa_nlu[spacy])\n",
            "\u001b[?25l  Downloading https://files.pythonhosted.org/packages/19/17/1d198a6aaa9aa4590862fe3d3a2ed7dd808050cab4eebe8a2f2f813c1376/zope.interface-4.6.0-cp36-cp36m-manylinux1_x86_64.whl (167kB)\n",
            "\u001b[K    100% |████████████████████████████████| 174kB 27.6MB/s \n",
            "\u001b[?25hCollecting constantly>=15.1 (from Twisted>=15.5->klein->rasa_nlu[spacy])\n",
            "  Downloading https://files.pythonhosted.org/packages/b9/65/48c1909d0c0aeae6c10213340ce682db01b48ea900a7d9fce7a7910ff318/constantly-15.1.0-py2.py3-none-any.whl\n",
            "Collecting Automat>=0.3.0 (from Twisted>=15.5->klein->rasa_nlu[spacy])\n",
            "  Downloading https://files.pythonhosted.org/packages/a3/86/14c16bb98a5a3542ed8fed5d74fb064a902de3bdd98d6584b34553353c45/Automat-0.7.0-py2.py3-none-any.whl\n",
            "Collecting hyperlink>=17.1.1 (from Twisted>=15.5->klein->rasa_nlu[spacy])\n",
            "  Downloading https://files.pythonhosted.org/packages/a7/b6/84d0c863ff81e8e7de87cff3bd8fd8f1054c227ce09af1b679a8b17a9274/hyperlink-18.0.0-py2.py3-none-any.whl\n",
            "Collecting PyHamcrest>=1.9.0 (from Twisted>=15.5->klein->rasa_nlu[spacy])\n",
            "\u001b[?25l  Downloading https://files.pythonhosted.org/packages/9a/d5/d37fd731b7d0e91afcc84577edeccf4638b4f9b82f5ffe2f8b62e2ddc609/PyHamcrest-1.9.0-py2.py3-none-any.whl (52kB)\n",
            "\u001b[K    100% |████████████████████████████████| 61kB 22.5MB/s \n",
            "\u001b[?25hRequirement already satisfied, skipping upgrade: attrs>=17.4.0 in /usr/local/lib/python3.6/dist-packages (from Twisted>=15.5->klein->rasa_nlu[spacy]) (18.2.0)\n",
            "Requirement already satisfied, skipping upgrade: docutils>=0.10 in /usr/local/lib/python3.6/dist-packages (from botocore<1.13.0,>=1.12.72->boto3->rasa_nlu[spacy]) (0.14)\n",
            "Requirement already satisfied, skipping upgrade: msgpack<1.0.0,>=0.5.6 in /usr/local/lib/python3.6/dist-packages (from thinc<6.11.0,>=6.10.3->spacy<=2.0.12,>2.0; extra == \"spacy\"->rasa_nlu[spacy]) (0.5.6)\n",
            "Requirement already satisfied, skipping upgrade: msgpack-numpy<1.0.0,>=0.4.1 in /usr/local/lib/python3.6/dist-packages (from thinc<6.11.0,>=6.10.3->spacy<=2.0.12,>2.0; extra == \"spacy\"->rasa_nlu[spacy]) (0.4.3.2)\n",
            "Requirement already satisfied, skipping upgrade: cytoolz<0.10,>=0.9.0 in /usr/local/lib/python3.6/dist-packages (from thinc<6.11.0,>=6.10.3->spacy<=2.0.12,>2.0; extra == \"spacy\"->rasa_nlu[spacy]) (0.9.0.1)\n",
            "Requirement already satisfied, skipping upgrade: wrapt<1.11.0,>=1.10.0 in /usr/local/lib/python3.6/dist-packages (from thinc<6.11.0,>=6.10.3->spacy<=2.0.12,>2.0; extra == \"spacy\"->rasa_nlu[spacy]) (1.10.11)\n",
            "Requirement already satisfied, skipping upgrade: toolz>=0.8.0 in /usr/local/lib/python3.6/dist-packages (from cytoolz<0.10,>=0.9.0->thinc<6.11.0,>=6.10.3->spacy<=2.0.12,>2.0; extra == \"spacy\"->rasa_nlu[spacy]) (0.9.0)\n",
            "Building wheels for collected packages: ConfigArgParse, jsonpickle, simplejson, spacy, tzlocal, Twisted, thinc, regex, html5lib\n",
            "  Running setup.py bdist_wheel for ConfigArgParse ... \u001b[?25l-\b \bdone\n",
            "\u001b[?25h  Stored in directory: /root/.cache/pip/wheels/76/11/eb/12113becd46c0e8a70b8a63f9405e46a1f61d4aaa8532d676b\n",
            "  Running setup.py bdist_wheel for jsonpickle ... \u001b[?25l-\b \bdone\n",
            "\u001b[?25h  Stored in directory: /root/.cache/pip/wheels/07/8b/41/8ce98f4737a9ff61b1bf2673f2abfe66a6a43ad6e91d2c9736\n",
            "  Running setup.py bdist_wheel for simplejson ... \u001b[?25l-\b \b\\\b \b|\b \bdone\n",
            "\u001b[?25h  Stored in directory: /root/.cache/pip/wheels/5d/1a/1e/0350bb3df3e74215cd91325344cc86c2c691f5306eb4d22c77\n",
            "  Running setup.py bdist_wheel for spacy ... \u001b[?25l-\b \b\\\b \b|\b \b/\b \b-\b \b\\\b \b|\b \b/\b \b-\b \b\\\b \b|\b \b/\b \b-\b \b\\\b \b|\b \b/\b \b-\b \b\\\b \b|\b \b/\b \b-\b \b\\\b \b|\b \b/\b \b-\b \b\\\b \b|\b \b/\b \b-\b \b\\\b \b|\b \b/\b \b-\b \b\\\b \b|\b \b/\b \b-\b \b\\\b \b|\b \b/\b \b-\b \b\\\b \b|\b \b/\b \b-\b \b\\\b \b|\b \b/\b \b-\b \b\\\b \b|\b \b/\b \b-\b \b\\\b \b|\b \b/\b \b-\b \b\\\b \b|\b \b/\b \b-\b \b\\\b \b|\b \b/\b \b-\b \b\\\b \b|\b \b/\b \b-\b \b\\\b \b|\b \b/\b \b-\b \b\\\b \b|\b \b/\b \b-\b \b\\\b \b|\b \b/\b \b-\b \b\\\b \b|\b \b/\b \b-\b \b\\\b \b|\b \b/\b \b-\b \bdone\n",
            "\u001b[?25h  Stored in directory: /root/.cache/pip/wheels/60/0b/bb/7c2e28db574dbb2358176934eddd32a1c5f838ba0bc23eaaab\n",
            "  Running setup.py bdist_wheel for tzlocal ... \u001b[?25l-\b \b\\\b \bdone\n",
            "\u001b[?25h  Stored in directory: /root/.cache/pip/wheels/15/ae/df/a67bf1ed84e9bf230187d36d8dcfd30072bea0236cb059ed91\n",
            "  Running setup.py bdist_wheel for Twisted ... \u001b[?25l-\b \b\\\b \b|\b \b/\b \b-\b \b\\\b \b|\b \b/\b \b-\b \b\\\b \b|\b \b/\b \b-\b \b\\\b \b|\b \bdone\n",
            "\u001b[?25h  Stored in directory: /root/.cache/pip/wheels/57/2e/89/11ba83bc08ac30a5e3a6005f0310c78d231b96a270def88ca0\n",
            "  Running setup.py bdist_wheel for thinc ... \u001b[?25l-\b \b\\\b \b|\b \b/\b \b-\b \b\\\b \b|\b \b/\b \b-\b \b\\\b \b|\b \b/\b \b-\b \b\\\b \b|\b \b/\b \b-\b \b\\\b \b|\b \b/\b \b-\b \b\\\b \b|\b \b/\b \b-\b \b\\\b \b|\b \b/\b \b-\b \b\\\b \b|\b \b/\b \bdone\n",
            "\u001b[?25h  Stored in directory: /root/.cache/pip/wheels/db/bc/e1/9b321b6b203288cf636a56e668ed5700076af4ed66062278ca\n",
            "  Running setup.py bdist_wheel for regex ... \u001b[?25l-\b \b\\\b \b|\b \b/\b \b-\b \b\\\b \b|\b \b/\b \bdone\n",
            "\u001b[?25h  Stored in directory: /root/.cache/pip/wheels/75/07/38/3c16b529d50cb4e0cd3dbc7b75cece8a09c132692c74450b01\n",
            "  Running setup.py bdist_wheel for html5lib ... \u001b[?25l-\b \b\\\b \bdone\n",
            "\u001b[?25h  Stored in directory: /root/.cache/pip/wheels/50/ae/f9/d2b189788efcf61d1ee0e36045476735c838898eef1cad6e29\n",
            "Successfully built ConfigArgParse jsonpickle simplejson spacy tzlocal Twisted thinc regex html5lib\n",
            "\u001b[31myellowbrick 0.9 has requirement scikit-learn>=0.20, but you'll have scikit-learn 0.19.2 which is incompatible.\u001b[0m\n",
            "\u001b[31mmagenta 0.3.19 has requirement tensorflow>=1.12.0, but you'll have tensorflow 1.8.0 which is incompatible.\u001b[0m\n",
            "\u001b[31mimbalanced-learn 0.4.3 has requirement scikit-learn>=0.20, but you'll have scikit-learn 0.19.2 which is incompatible.\u001b[0m\n",
            "\u001b[31mrasa-core 0.9.6 has requirement rasa-nlu~=0.12.0, but you'll have rasa-nlu 0.13.8 which is incompatible.\u001b[0m\n",
            "Installing collected packages: python-telegram-bot, redis, html5lib, bleach, tensorboard, tensorflow, ruamel.yaml, mattermostwrapper, tzlocal, apscheduler, graphviz, ConfigArgParse, pykwalify, colorhash, flask-cors, typing, fbmessenger, fakeredis, PyJWT, twilio, websocket-client, slackclient, jsonpickle, zope.interface, constantly, incremental, Automat, hyperlink, PyHamcrest, Twisted, klein, humanfriendly, coloredlogs, simplejson, scikit-learn, python-crfsuite, sklearn-crfsuite, murmurhash, cymem, preshed, thinc, regex, spacy, rasa-nlu, rasa-core\n",
            "  Found existing installation: html5lib 1.0.1\n",
            "    Uninstalling html5lib-1.0.1:\n",
            "      Successfully uninstalled html5lib-1.0.1\n",
            "  Found existing installation: bleach 3.0.2\n",
            "    Uninstalling bleach-3.0.2:\n",
            "      Successfully uninstalled bleach-3.0.2\n",
            "  Found existing installation: tensorboard 1.12.2\n",
            "    Uninstalling tensorboard-1.12.2:\n",
            "      Successfully uninstalled tensorboard-1.12.2\n",
            "  Found existing installation: tensorflow 1.12.0\n",
            "    Uninstalling tensorflow-1.12.0:\n",
            "      Successfully uninstalled tensorflow-1.12.0\n",
            "  Found existing installation: graphviz 0.10.1\n",
            "    Uninstalling graphviz-0.10.1:\n",
            "      Successfully uninstalled graphviz-0.10.1\n",
            "  Found existing installation: scikit-learn 0.20.2\n",
            "    Uninstalling scikit-learn-0.20.2:\n",
            "      Successfully uninstalled scikit-learn-0.20.2\n",
            "  Found existing installation: murmurhash 1.0.1\n",
            "    Uninstalling murmurhash-1.0.1:\n",
            "      Successfully uninstalled murmurhash-1.0.1\n",
            "  Found existing installation: cymem 2.0.2\n",
            "    Uninstalling cymem-2.0.2:\n",
            "      Successfully uninstalled cymem-2.0.2\n",
            "  Found existing installation: preshed 2.0.1\n",
            "    Uninstalling preshed-2.0.1:\n",
            "      Successfully uninstalled preshed-2.0.1\n",
            "  Found existing installation: thinc 6.12.1\n",
            "    Uninstalling thinc-6.12.1:\n",
            "      Successfully uninstalled thinc-6.12.1\n",
            "  Found existing installation: regex 2018.1.10\n",
            "    Uninstalling regex-2018.1.10:\n",
            "      Successfully uninstalled regex-2018.1.10\n",
            "  Found existing installation: spacy 2.0.18\n",
            "    Uninstalling spacy-2.0.18:\n",
            "      Successfully uninstalled spacy-2.0.18\n",
            "Successfully installed Automat-0.7.0 ConfigArgParse-0.13.0 PyHamcrest-1.9.0 PyJWT-1.7.1 Twisted-18.9.0 apscheduler-3.5.3 bleach-1.5.0 coloredlogs-10.0 colorhash-1.0.2 constantly-15.1.0 cymem-1.31.2 fakeredis-0.10.3 fbmessenger-5.3.2 flask-cors-3.0.7 graphviz-0.8.4 html5lib-0.9999999 humanfriendly-4.17 hyperlink-18.0.0 incremental-17.5.0 jsonpickle-0.9.6 klein-17.10.0 mattermostwrapper-2.1 murmurhash-0.28.0 preshed-1.0.1 pykwalify-1.6.0 python-crfsuite-0.9.6 python-telegram-bot-10.1.0 rasa-core-0.9.6 rasa-nlu-0.13.8 redis-2.10.6 regex-2017.4.5 ruamel.yaml-0.15.84 scikit-learn-0.19.2 simplejson-3.16.0 sklearn-crfsuite-0.3.6 slackclient-1.3.0 spacy-2.0.12 tensorboard-1.8.0 tensorflow-1.8.0 thinc-6.10.3 twilio-6.22.1 typing-3.6.6 tzlocal-1.5.1 websocket-client-0.54.0 zope.interface-4.6.0\n"
          ],
          "name": "stdout"
        }
      ]
    },
    {
      "metadata": {
        "id": "wyCva14-1gD4",
        "colab_type": "code",
        "outputId": "642d04c1-b9ad-4ed0-fb28-ee9bef21507b",
        "colab": {
          "base_uri": "https://localhost:8080/",
          "height": 258
        }
      },
      "cell_type": "code",
      "source": [
        "!{python} -m spacy download en_core_web_md"
      ],
      "execution_count": 0,
      "outputs": [
        {
          "output_type": "stream",
          "text": [
            "Collecting en_core_web_md==2.0.0 from https://github.com/explosion/spacy-models/releases/download/en_core_web_md-2.0.0/en_core_web_md-2.0.0.tar.gz#egg=en_core_web_md==2.0.0\n",
            "\u001b[?25l  Downloading https://github.com/explosion/spacy-models/releases/download/en_core_web_md-2.0.0/en_core_web_md-2.0.0.tar.gz (120.8MB)\n",
            "\u001b[K    100% |████████████████████████████████| 120.9MB 61.3MB/s \n",
            "\u001b[?25hInstalling collected packages: en-core-web-md\n",
            "  Running setup.py install for en-core-web-md ... \u001b[?25l-\b \b\\\b \b|\b \b/\b \b-\b \b\\\b \b|\b \b/\b \b-\b \b\\\b \b|\b \b/\b \b-\b \b\\\b \bdone\n",
            "\u001b[?25hSuccessfully installed en-core-web-md-2.0.0\n",
            "\n",
            "\u001b[93m    Linking successful\u001b[0m\n",
            "    /usr/local/lib/python3.6/dist-packages/en_core_web_md -->\n",
            "    /usr/local/lib/python3.6/dist-packages/spacy/data/en_core_web_md\n",
            "\n",
            "    You can now load the model via spacy.load('en_core_web_md')\n",
            "\n"
          ],
          "name": "stdout"
        }
      ]
    },
    {
      "metadata": {
        "id": "v7JQlbqR9CHC",
        "colab_type": "text"
      },
      "cell_type": "markdown",
      "source": [
        "## Downloading the English Language Model"
      ]
    },
    {
      "metadata": {
        "id": "eRmnEdML3OhH",
        "colab_type": "code",
        "outputId": "cb852307-d652-40c3-cf3d-66c54f833908",
        "colab": {
          "base_uri": "https://localhost:8080/",
          "height": 136
        }
      },
      "cell_type": "code",
      "source": [
        "!{python} -m spacy link en_core_web_md en --force;"
      ],
      "execution_count": 0,
      "outputs": [
        {
          "output_type": "stream",
          "text": [
            "\n",
            "\u001b[93m    Linking successful\u001b[0m\n",
            "    /usr/local/lib/python3.6/dist-packages/en_core_web_md -->\n",
            "    /usr/local/lib/python3.6/dist-packages/spacy/data/en\n",
            "\n",
            "    You can now load the model via spacy.load('en')\n",
            "\n"
          ],
          "name": "stdout"
        }
      ]
    },
    {
      "metadata": {
        "id": "yHYeAA859JGq",
        "colab_type": "text"
      },
      "cell_type": "markdown",
      "source": [
        "# Importing the Installations"
      ]
    },
    {
      "metadata": {
        "id": "TSw6zFmk3iPu",
        "colab_type": "code",
        "colab": {}
      },
      "cell_type": "code",
      "source": [
        "import rasa_nlu\n",
        "import rasa_core\n",
        "import spacy\n",
        "\n"
      ],
      "execution_count": 0,
      "outputs": []
    },
    {
      "metadata": {
        "id": "aEw5vhSq9gWa",
        "colab_type": "text"
      },
      "cell_type": "markdown",
      "source": [
        "# 1. Teaching the bot to understand user inputs using Rasa NLU"
      ]
    },
    {
      "metadata": {
        "id": "oDEAOmaI9o4a",
        "colab_type": "text"
      },
      "cell_type": "markdown",
      "source": [
        "## Preparing the NLU Training Data"
      ]
    },
    {
      "metadata": {
        "id": "RPxeQ1_14CjK",
        "colab_type": "code",
        "outputId": "bfb5974f-f8ea-46b8-b8cb-9dd4479ed9cc",
        "colab": {
          "base_uri": "https://localhost:8080/",
          "height": 34
        }
      },
      "cell_type": "code",
      "source": [
        "nlu_md = \"\"\"\n",
        "## intent:greet\n",
        "- hey\n",
        "- hello there\n",
        "- hi\n",
        "- hello there\n",
        "- good morning\n",
        "- good evening\n",
        "- moin\n",
        "- hey there\n",
        "- let's go\n",
        "- hey dude\n",
        "- goodmorning\n",
        "- goodevening\n",
        "- good afternoon\n",
        "\n",
        "## intent:goodbye\n",
        "- cu\n",
        "- good by\n",
        "- cee you later\n",
        "- good night\n",
        "- good afternoon\n",
        "- bye\n",
        "- goodbye\n",
        "- have a nice day\n",
        "- see you around\n",
        "- bye bye\n",
        "- see you later\n",
        "\n",
        "## intent:mood_affirm\n",
        "- yes\n",
        "- indeed\n",
        "- of course\n",
        "- that sounds good\n",
        "- correct\n",
        "\n",
        "## intent:mood_deny\n",
        "- no\n",
        "- never\n",
        "- I don't think so\n",
        "- don't like that\n",
        "- no way\n",
        "- not really\n",
        "\n",
        "## intent:mood_great\n",
        "- perfect\n",
        "- very good\n",
        "- great\n",
        "- amazing\n",
        "- feeling like a king\n",
        "- wonderful\n",
        "- I am feeling very good\n",
        "- I am great\n",
        "- I am amazing\n",
        "- I am going to save the world\n",
        "- super\n",
        "- extremely good\n",
        "- so so perfect\n",
        "- so good\n",
        "- so perfect\n",
        "\n",
        "## intent:mood_unhappy\n",
        "- my day was horrible\n",
        "- I am sad\n",
        "- I don't feel very well\n",
        "- I am disappointed\n",
        "- super sad\n",
        "- I'm so sad\n",
        "- sad\n",
        "- very sad\n",
        "- unhappy\n",
        "- bad\n",
        "- very bad\n",
        "- awful\n",
        "- terrible\n",
        "- not so good\n",
        "- not very good\n",
        "- extremly sad\n",
        "- so saad\n",
        "- Quite bad - can I get a cute picture of a [bird](group:birds), please?\n",
        "- Really bad and only [doggo](group:shibes) pics and change that.\n",
        "- Not good. The only thing that could make me fell better is a picture of a cute [kitten](group:cats).\n",
        "- so sad. Only the picture of a [puppy](group:shibes) could make it better.\n",
        "- I am very sad. I need a [cat](group:cats) picture.\n",
        "- Extremely sad. Only the cute [doggo](group:shibes) pics can make me feel better.\n",
        "- Bad. Please show me a [bird](group:birds) pic!\n",
        "- Pretty bad to be honest. Can you show me a [puppy](group:shibes) picture to make me fell better?\n",
        "\n",
        "## intent: inform\n",
        "- A [dog](group:shibes)\n",
        "- [dog](group:shibes)\n",
        "- [bird](group:birds)\n",
        "- a [cat](group:cats)\n",
        "- [cat](group:cats)\n",
        "- a [bird](group:birds)\n",
        "- of a [dog](group:shibes)\n",
        "- of a [cat](group:cats)\n",
        "- a [bird](group:birds), please\n",
        "- a [dog](group:shibes), please\n",
        "\"\"\"\n",
        "\n",
        "%store nlu_md > nlu.md"
      ],
      "execution_count": 0,
      "outputs": [
        {
          "output_type": "stream",
          "text": [
            "Writing 'nlu_md' (str) to file 'nlu.md'.\n"
          ],
          "name": "stdout"
        }
      ]
    },
    {
      "metadata": {
        "id": "ceazcacn9veB",
        "colab_type": "text"
      },
      "cell_type": "markdown",
      "source": [
        "## Defining the NLU Model Configuration"
      ]
    },
    {
      "metadata": {
        "id": "dF60NWhR4ID6",
        "colab_type": "code",
        "outputId": "92946645-94fc-4450-aa41-eca8895ff83c",
        "colab": {
          "base_uri": "https://localhost:8080/",
          "height": 34
        }
      },
      "cell_type": "code",
      "source": [
        "config = \"\"\"\n",
        "language: \"en\"\n",
        "\n",
        "pipeline:\n",
        "- name: \"nlp_spacy\"                   # loads the spacy language model\n",
        "- name: \"tokenizer_spacy\"             # splits the sentence into tokens\n",
        "- name: \"ner_crf\"                   # uses the pretrained spacy NER model\n",
        "- name: \"intent_featurizer_spacy\"     # transform the sentence into a vector representation\n",
        "- name: \"intent_classifier_sklearn\"   # uses the vector representation to classify using SVM\n",
        "- name: \"ner_synonyms\"                # trains the synonyms\n",
        "\"\"\" \n",
        "\n",
        "%store config > config.yml"
      ],
      "execution_count": 0,
      "outputs": [
        {
          "output_type": "stream",
          "text": [
            "Writing 'config' (str) to file 'config.yml'.\n"
          ],
          "name": "stdout"
        }
      ]
    },
    {
      "metadata": {
        "id": "ieoWk91X9y8X",
        "colab_type": "text"
      },
      "cell_type": "markdown",
      "source": [
        "## Training the NLU Model."
      ]
    },
    {
      "metadata": {
        "id": "dp3AIHmS4L6x",
        "colab_type": "code",
        "outputId": "8011c4f7-c789-4138-84d7-4710207615d8",
        "colab": {
          "base_uri": "https://localhost:8080/",
          "height": 445
        }
      },
      "cell_type": "code",
      "source": [
        "from rasa_nlu.training_data import load_data\n",
        "from rasa_nlu.config import RasaNLUModelConfig\n",
        "from rasa_nlu.model import Trainer\n",
        "from rasa_nlu import config\n",
        "\n",
        "# loading the nlu training samples\n",
        "training_data = load_data(\"nlu.md\")\n",
        "\n",
        "# trainer to educate our pipeline\n",
        "trainer = Trainer(config.load(\"config.yml\"))\n",
        "\n",
        "# train the model!\n",
        "interpreter = trainer.train(training_data)\n",
        "\n",
        "# store it for future use\n",
        "model_directory = trainer.persist(\"./models/nlu\", fixed_model_name=\"current\")"
      ],
      "execution_count": 0,
      "outputs": [
        {
          "output_type": "stream",
          "text": [
            "INFO:rasa_nlu.training_data.loading:Training data format of nlu.md is md\n",
            "INFO:rasa_nlu.training_data.training_data:Training data stats: \n",
            "\t- intent examples: 85 (7 distinct intents)\n",
            "\t- Found intents: 'greet', 'mood_deny', 'mood_great', 'mood_affirm', 'mood_unhappy', 'goodbye', 'inform'\n",
            "\t- entity examples: 18 (1 distinct entities)\n",
            "\t- found entities: 'group'\n",
            "\n",
            "INFO:rasa_nlu.utils.spacy_utils:Trying to load spacy model with name 'en'\n",
            "INFO:rasa_nlu.components:Added 'nlp_spacy' to component cache. Key 'nlp_spacy-en'.\n",
            "INFO:rasa_nlu.model:Starting to train component nlp_spacy\n",
            "INFO:rasa_nlu.model:Finished training component.\n",
            "INFO:rasa_nlu.model:Starting to train component tokenizer_spacy\n",
            "INFO:rasa_nlu.model:Finished training component.\n",
            "INFO:rasa_nlu.model:Starting to train component ner_crf\n",
            "INFO:rasa_nlu.model:Finished training component.\n",
            "INFO:rasa_nlu.model:Starting to train component intent_featurizer_spacy\n",
            "INFO:rasa_nlu.model:Finished training component.\n",
            "INFO:rasa_nlu.model:Starting to train component intent_classifier_sklearn\n",
            "[Parallel(n_jobs=1)]: Done  12 out of  12 | elapsed:    0.1s finished\n",
            "INFO:rasa_nlu.model:Finished training component.\n",
            "INFO:rasa_nlu.model:Starting to train component ner_synonyms\n",
            "INFO:rasa_nlu.model:Finished training component.\n"
          ],
          "name": "stderr"
        },
        {
          "output_type": "stream",
          "text": [
            "Fitting 2 folds for each of 6 candidates, totalling 12 fits\n"
          ],
          "name": "stdout"
        },
        {
          "output_type": "stream",
          "text": [
            "INFO:rasa_nlu.model:Successfully saved model into '/content/models/nlu/default/current'\n"
          ],
          "name": "stderr"
        }
      ]
    },
    {
      "metadata": {
        "id": "Jrfp4xOS95ZZ",
        "colab_type": "text"
      },
      "cell_type": "markdown",
      "source": [
        "## Evaluating the NLU model on a random text"
      ]
    },
    {
      "metadata": {
        "id": "4UjzlqMV4N1k",
        "colab_type": "code",
        "outputId": "37ea93e5-6a71-4e8e-d2b6-a45144d184ad",
        "colab": {
          "base_uri": "https://localhost:8080/",
          "height": 867
        }
      },
      "cell_type": "code",
      "source": [
        "# A helper function for prettier output\n",
        "\n",
        "def pprint(o):   \n",
        "    print(json.dumps(o, indent=2))\n",
        "    \n",
        "pprint(interpreter.parse(\"I am very sad. Could you send me a cat picture? \"))"
      ],
      "execution_count": 0,
      "outputs": [
        {
          "output_type": "stream",
          "text": [
            "{\n",
            "  \"intent\": {\n",
            "    \"name\": \"mood_unhappy\",\n",
            "    \"confidence\": 0.7165062638624508\n",
            "  },\n",
            "  \"entities\": [\n",
            "    {\n",
            "      \"start\": 35,\n",
            "      \"end\": 38,\n",
            "      \"value\": \"cats\",\n",
            "      \"entity\": \"group\",\n",
            "      \"confidence\": 0.9543162015604525,\n",
            "      \"extractor\": \"ner_crf\",\n",
            "      \"processors\": [\n",
            "        \"ner_synonyms\"\n",
            "      ]\n",
            "    }\n",
            "  ],\n",
            "  \"intent_ranking\": [\n",
            "    {\n",
            "      \"name\": \"mood_unhappy\",\n",
            "      \"confidence\": 0.7165062638624508\n",
            "    },\n",
            "    {\n",
            "      \"name\": \"goodbye\",\n",
            "      \"confidence\": 0.07658387975889518\n",
            "    },\n",
            "    {\n",
            "      \"name\": \"mood_great\",\n",
            "      \"confidence\": 0.0747897961451117\n",
            "    },\n",
            "    {\n",
            "      \"name\": \"greet\",\n",
            "      \"confidence\": 0.04438568373413862\n",
            "    },\n",
            "    {\n",
            "      \"name\": \"inform\",\n",
            "      \"confidence\": 0.032039203858483946\n",
            "    },\n",
            "    {\n",
            "      \"name\": \"mood_affirm\",\n",
            "      \"confidence\": 0.028217121964221097\n",
            "    },\n",
            "    {\n",
            "      \"name\": \"mood_deny\",\n",
            "      \"confidence\": 0.027478050676699096\n",
            "    }\n",
            "  ],\n",
            "  \"text\": \"I am very sad. Could you send me a cat picture? \"\n",
            "}\n"
          ],
          "name": "stdout"
        }
      ]
    },
    {
      "metadata": {
        "id": "OPlSd-As-Fz4",
        "colab_type": "text"
      },
      "cell_type": "markdown",
      "source": [
        "## Evaluating the NLU model on a test data\n",
        "(Here we are using the data at hand i.e nlu.md but it isr recommended to use unseen data)"
      ]
    },
    {
      "metadata": {
        "id": "FmRCylbT4jyw",
        "colab_type": "code",
        "outputId": "fd1bfd57-ebb3-4541-d3b3-b4cbba781164",
        "colab": {
          "base_uri": "https://localhost:8080/",
          "height": 1483
        }
      },
      "cell_type": "code",
      "source": [
        "from rasa_nlu.evaluate import run_evaluation\n",
        "\n",
        "run_evaluation(\"nlu.md\", model_directory)"
      ],
      "execution_count": 0,
      "outputs": [
        {
          "output_type": "stream",
          "text": [
            "INFO:rasa_nlu.components:Added 'nlp_spacy' to component cache. Key 'nlp_spacy-en'.\n",
            "INFO:rasa_nlu.training_data.loading:Training data format of nlu.md is md\n",
            "INFO:rasa_nlu.training_data.training_data:Training data stats: \n",
            "\t- intent examples: 85 (7 distinct intents)\n",
            "\t- Found intents: 'greet', 'mood_deny', 'mood_great', 'mood_affirm', 'mood_unhappy', 'goodbye', 'inform'\n",
            "\t- entity examples: 18 (1 distinct entities)\n",
            "\t- found entities: 'group'\n",
            "\n",
            "INFO:rasa_nlu.evaluate:Intent evaluation results:\n",
            "INFO:rasa_nlu.evaluate:Intent Evaluation: Only considering those 85 examples that have a defined intent out of 85 examples\n",
            "INFO:rasa_nlu.evaluate:F1-Score:  0.9881730469965763\n",
            "INFO:rasa_nlu.evaluate:Precision: 0.9890756302521008\n",
            "INFO:rasa_nlu.evaluate:Accuracy:  0.9882352941176471\n",
            "INFO:rasa_nlu.evaluate:Classification report: \n",
            "              precision    recall  f1-score   support\n",
            "\n",
            "     goodbye       1.00      0.91      0.95        11\n",
            "       greet       0.93      1.00      0.96        13\n",
            "      inform       1.00      1.00      1.00        10\n",
            " mood_affirm       1.00      1.00      1.00         5\n",
            "   mood_deny       1.00      1.00      1.00         6\n",
            "  mood_great       1.00      1.00      1.00        15\n",
            "mood_unhappy       1.00      1.00      1.00        25\n",
            "\n",
            " avg / total       0.99      0.99      0.99        85\n",
            "\n",
            "INFO:rasa_nlu.evaluate:There were some nlu intent classification errors. Use `--verbose` to show them in the log.\n",
            "INFO:rasa_nlu.evaluate:Model prediction errors saved to errors.json.\n",
            "INFO:rasa_nlu.evaluate:Confusion matrix, without normalization: \n",
            "[[10  1  0  0  0  0  0]\n",
            " [ 0 13  0  0  0  0  0]\n",
            " [ 0  0 10  0  0  0  0]\n",
            " [ 0  0  0  5  0  0  0]\n",
            " [ 0  0  0  0  6  0  0]\n",
            " [ 0  0  0  0  0 15  0]\n",
            " [ 0  0  0  0  0  0 25]]\n"
          ],
          "name": "stderr"
        },
        {
          "output_type": "display_data",
          "data": {
            "image/png": "[encoded data removed]",
            "text/plain": [
              "<matplotlib.figure.Figure at 0x7fcb2c069c50>"
            ]
          },
          "metadata": {
            "tags": []
          }
        },
        {
          "output_type": "display_data",
          "data": {
            "image/png": "[encoded data removed]",
            "text/plain": [
              "<matplotlib.figure.Figure at 0x7fcb2bf38240>"
            ]
          },
          "metadata": {
            "tags": []
          }
        },
        {
          "output_type": "stream",
          "text": [
            "INFO:rasa_nlu.evaluate:Entity evaluation results:\n",
            "INFO:rasa_nlu.evaluate:Evaluation for entity extractor: ner_crf \n",
            "INFO:rasa_nlu.evaluate:F1-Score:  1.0\n",
            "INFO:rasa_nlu.evaluate:Precision: 1.0\n",
            "INFO:rasa_nlu.evaluate:Accuracy:  1.0\n",
            "INFO:rasa_nlu.evaluate:Classification report: \n",
            "             precision    recall  f1-score   support\n",
            "\n",
            "      group       1.00      1.00      1.00        18\n",
            "  no_entity       1.00      1.00      1.00       265\n",
            "\n",
            "avg / total       1.00      1.00      1.00       283\n",
            "\n"
          ],
          "name": "stderr"
        }
      ]
    },
    {
      "metadata": {
        "id": "Av3R2GZZ-WJO",
        "colab_type": "text"
      },
      "cell_type": "markdown",
      "source": [
        "# 2. Teaching the bot to respond using Rasa Core"
      ]
    },
    {
      "metadata": {
        "id": "BKZ63AuS-ZPV",
        "colab_type": "text"
      },
      "cell_type": "markdown",
      "source": [
        "## 1. Writing  Stories"
      ]
    },
    {
      "metadata": {
        "id": "W3q1XJ5O4orY",
        "colab_type": "code",
        "outputId": "a82511c7-b7e5-462c-c5c2-35df3cabd39a",
        "colab": {
          "base_uri": "https://localhost:8080/",
          "height": 34
        }
      },
      "cell_type": "code",
      "source": [
        "stories_md = \"\"\"\n",
        "## happy path               <!-- name of the story - just for debugging -->\n",
        "* greet              \n",
        "  - utter_greet\n",
        "* mood_great               <!-- user utterance, in format intent[entities] -->\n",
        "  - utter_happy\n",
        "* mood_affirm\n",
        "  - utter_happy\n",
        "* mood_affirm\n",
        "  - utter_goodbye\n",
        "  \n",
        "## sad path 1               <!-- this is already the start of the next story -->\n",
        "* greet\n",
        "  - utter_greet             <!-- action the bot should execute -->\n",
        "* mood_unhappy\n",
        "  - utter_ask_picture\n",
        "* inform{\"animal\":\"dog\"}  \n",
        "  - action_retrieve_image\n",
        "  - utter_did_that_help\n",
        "* mood_affirm\n",
        "  - utter_happy\n",
        "\n",
        "## sad path 2\n",
        "* greet\n",
        "  - utter_greet\n",
        "* mood_unhappy\n",
        "  - utter_ask_picture\n",
        "* inform{\"group\":\"cat\"}\n",
        "  - action_retrieve_image\n",
        "  - utter_did_that_help\n",
        "* mood_deny\n",
        "  - utter_goodbye\n",
        "  \n",
        "## sad path 3\n",
        "* greet\n",
        "  - utter_greet\n",
        "* mood_unhappy{\"group\":\"puppy\"}\n",
        "  - action_retrieve_image\n",
        "  - utter_did_that_help\n",
        "* mood_affirm\n",
        "  - utter_happy\n",
        "  \n",
        "## strange user\n",
        "* mood_affirm\n",
        "  - utter_happy\n",
        "* mood_affirm\n",
        "  - utter_unclear\n",
        "\n",
        "## say goodbye\n",
        "* goodbye\n",
        "  - utter_goodbye\n",
        "\n",
        "## fallback\n",
        "- utter_unclear\n",
        "\n",
        "\"\"\"\n",
        "\n",
        "%store stories_md > stories.md"
      ],
      "execution_count": 0,
      "outputs": [
        {
          "output_type": "stream",
          "text": [
            "Writing 'stories_md' (str) to file 'stories.md'.\n"
          ],
          "name": "stdout"
        }
      ]
    },
    {
      "metadata": {
        "id": "LnD9v_CX-ePm",
        "colab_type": "text"
      },
      "cell_type": "markdown",
      "source": [
        "## 2. Defining a Domain"
      ]
    },
    {
      "metadata": {
        "id": "3SzQq1oy5U9T",
        "colab_type": "code",
        "outputId": "4fde8c0d-9672-457c-cacc-0e86d3ca5c80",
        "colab": {
          "base_uri": "https://localhost:8080/",
          "height": 34
        }
      },
      "cell_type": "code",
      "source": [
        "domain_yml = \"\"\"\n",
        "intents:\n",
        "- greet\n",
        "- goodbye\n",
        "- mood_affirm\n",
        "- mood_deny\n",
        "- mood_great\n",
        "- mood_unhappy\n",
        "- inform\n",
        "\n",
        "slots:\n",
        "  group:\n",
        "    type: text\n",
        "    \n",
        "entities:\n",
        "- group\n",
        "\n",
        "actions:\n",
        "- utter_greet\n",
        "- utter_did_that_help\n",
        "- utter_happy\n",
        "- utter_goodbye\n",
        "- utter_unclear\n",
        "- utter_ask_picture\n",
        "- __main__.ApiAction\n",
        "\n",
        "templates:\n",
        "  utter_greet:\n",
        "  - text: \"Hey! How are you?\"\n",
        "\n",
        "  utter_did_that_help:\n",
        "  - text: \"Did that help you?\"\n",
        "\n",
        "  utter_unclear:\n",
        "  - text: \"I am not sure what you are aiming for.\"\n",
        "  \n",
        "  utter_happy:\n",
        "  - text: \"Great carry on!\"\n",
        "\n",
        "  utter_goodbye:\n",
        "  - text: \"Bye\"\n",
        "  \n",
        "  utter_ask_picture:\n",
        "  - text: \"To cheer you up, I can show you a cute picture of a dog, cat or a bird. Which one do you choose?\"\n",
        "\"\"\"\n",
        "\n",
        "%store domain_yml > domain.yml"
      ],
      "execution_count": 0,
      "outputs": [
        {
          "output_type": "stream",
          "text": [
            "Writing 'domain_yml' (str) to file 'domain.yml'.\n"
          ],
          "name": "stdout"
        }
      ]
    },
    {
      "metadata": {
        "id": "ROL3AYs5-iCg",
        "colab_type": "text"
      },
      "cell_type": "markdown",
      "source": [
        "## Custom Actions"
      ]
    },
    {
      "metadata": {
        "id": "7SbmLMJa5X0E",
        "colab_type": "code",
        "colab": {}
      },
      "cell_type": "code",
      "source": [
        "from rasa_core.actions import Action\n",
        "from rasa_core.events import SlotSet\n",
        "from IPython.core.display import Image, display\n",
        "\n",
        "import requests\n",
        "\n",
        "class ApiAction(Action):\n",
        "    def name(self):\n",
        "        return \"action_retrieve_image\"\n",
        "\n",
        "    def run(self, dispatcher, tracker, domain):\n",
        "        \n",
        "        group = tracker.get_slot('group')\n",
        "        \n",
        "        r = requests.get('http://shibe.online/api/{}?count=1&urls=true&httpsUrls=true'.format(group))\n",
        "        response = r.content.decode()\n",
        "        response = response.replace('[\"',\"\")\n",
        "        response = response.replace('\"]',\"\")\n",
        "   \n",
        "        \n",
        "        #display(Image(response[0], height=550, width=520))\n",
        "        dispatcher.utter_message(\"Here is something to cheer you up: {}\".format(response))"
      ],
      "execution_count": 0,
      "outputs": []
    },
    {
      "metadata": {
        "id": "M-jn1g_k-o-m",
        "colab_type": "text"
      },
      "cell_type": "markdown",
      "source": [
        "##  Visualising the Training Data"
      ]
    },
    {
      "metadata": {
        "id": "pXZhTaSw9SNR",
        "colab_type": "code",
        "colab": {}
      },
      "cell_type": "code",
      "source": [
        "\n",
        "!apt-get -qq install -y graphviz libgraphviz-dev pkg-config;\n",
        "!breq install graphviz\n",
        "\n",
        "!{python} -m pip install pygraphviz;"
      ],
      "execution_count": 0,
      "outputs": []
    },
    {
      "metadata": {
        "id": "O1gYRXe15amU",
        "colab_type": "code",
        "outputId": "9c0838e3-56c1-4eeb-a879-cc09619269d3",
        "colab": {
          "base_uri": "https://localhost:8080/",
          "height": 1090
        }
      },
      "cell_type": "code",
      "source": [
        "\n",
        "from IPython.display import Image\n",
        "from rasa_core.agent import Agent\n",
        "\n",
        "agent = Agent('domain.yml')\n",
        "agent.visualize(\"stories.md\", \"story_graph.png\", max_history=2)\n",
        "Image(filename=\"story_graph.png\")"
      ],
      "execution_count": 0,
      "outputs": [
        {
          "output_type": "stream",
          "text": [
            "INFO:apscheduler.scheduler:Scheduler started\n",
            "Processed Story Blocks: 100%|██████████| 7/7 [00:00<00:00, 248.31it/s, # trackers=1]\n"
          ],
          "name": "stderr"
        },
        {
          "output_type": "execute_result",
          "data": {
            "image/png": "[encoded data removed]",
            "text/plain": [
              "<IPython.core.display.Image object>"
            ]
          },
          "metadata": {
            "tags": []
          },
          "execution_count": 17
        }
      ]
    },
    {
      "metadata": {
        "id": "pCdKD3l7-ua8",
        "colab_type": "text"
      },
      "cell_type": "markdown",
      "source": [
        "## Training a Dialogue Model"
      ]
    },
    {
      "metadata": {
        "id": "4D7R-FRO5dxz",
        "colab_type": "code",
        "outputId": "727adf2a-fa4b-4158-df94-30ad472f62f3",
        "colab": {
          "base_uri": "https://localhost:8080/",
          "height": 7364
        }
      },
      "cell_type": "code",
      "source": [
        "from rasa_core.policies import FallbackPolicy, KerasPolicy, MemoizationPolicy\n",
        "from rasa_core.agent import Agent\n",
        "\n",
        "# this will catch predictions the model isn't very certain about\n",
        "# there is a threshold for the NLU predictions as well as the action predictions\n",
        "fallback = FallbackPolicy(fallback_action_name=\"utter_unclear\",\n",
        "                          core_threshold=0.2,\n",
        "                          nlu_threshold=0.1)\n",
        "\n",
        "agent = Agent('domain.yml', policies=[MemoizationPolicy(), KerasPolicy(), fallback])\n",
        "\n",
        "# loading our neatly defined training dialogues\n",
        "training_data = agent.load_data('stories.md')\n",
        "\n",
        "agent.train(\n",
        "    training_data,\n",
        "    validation_split=0.0,\n",
        "    epochs=200\n",
        ")\n",
        "\n",
        "agent.persist('models/dialogue')"
      ],
      "execution_count": 0,
      "outputs": [
        {
          "output_type": "stream",
          "text": [
            "Using TensorFlow backend.\n",
            "Processed Story Blocks: 100%|██████████| 7/7 [00:00<00:00, 172.36it/s, # trackers=1]\n",
            "Processed Story Blocks: 100%|██████████| 7/7 [00:00<00:00, 148.93it/s, # trackers=7]\n",
            "Processed Story Blocks: 100%|██████████| 7/7 [00:00<00:00, 122.49it/s, # trackers=15]\n",
            "Processed Story Blocks: 100%|██████████| 7/7 [00:00<00:00, 113.26it/s, # trackers=15]\n",
            "INFO:rasa_core.featurizers:Creating states and action examples from collected trackers (by MaxHistoryTrackerFeaturizer)...\n",
            "Processed trackers: 100%|██████████| 241/241 [00:13<00:00, 17.45it/s, # actions=271]\n",
            "INFO:rasa_core.featurizers:Created 271 action examples.\n",
            "Processed actions: 271it [00:00, 307.46it/s, # examples=271]\n",
            "INFO:rasa_core.policies.memoization:Memorized 271 unique action examples.\n",
            "INFO:rasa_core.featurizers:Creating states and action examples from collected trackers (by MaxHistoryTrackerFeaturizer)...\n",
            "Processed trackers: 100%|██████████| 241/241 [00:14<00:00, 16.52it/s, # actions=271]\n",
            "INFO:rasa_core.featurizers:Created 271 action examples.\n",
            "INFO:rasa_core.policies.keras_policy:Fitting model with 271 total samples and a validation split of 0.0\n"
          ],
          "name": "stderr"
        },
        {
          "output_type": "stream",
          "text": [
            "_________________________________________________________________\n",
            "Layer (type)                 Output Shape              Param #   \n",
            "=================================================================\n",
            "masking_1 (Masking)          (None, 5, 18)             0         \n",
            "_________________________________________________________________\n",
            "lstm_1 (LSTM)                (None, 32)                6528      \n",
            "_________________________________________________________________\n",
            "dense_1 (Dense)              (None, 9)                 297       \n",
            "_________________________________________________________________\n",
            "activation_1 (Activation)    (None, 9)                 0         \n",
            "=================================================================\n",
            "Total params: 6,825\n",
            "Trainable params: 6,825\n",
            "Non-trainable params: 0\n",
            "_________________________________________________________________\n",
            "Epoch 1/200\n",
            "271/271 [==============================] - 1s 2ms/step - loss: 2.1206 - acc: 0.3210\n",
            "Epoch 2/200\n",
            "271/271 [==============================] - 0s 193us/step - loss: 2.0129 - acc: 0.4613\n",
            "Epoch 3/200\n",
            "271/271 [==============================] - 0s 193us/step - loss: 1.9060 - acc: 0.4649\n",
            "Epoch 4/200\n",
            "271/271 [==============================] - 0s 190us/step - loss: 1.8404 - acc: 0.4649\n",
            "Epoch 5/200\n",
            "271/271 [==============================] - 0s 186us/step - loss: 1.7740 - acc: 0.4649\n",
            "Epoch 6/200\n",
            "271/271 [==============================] - 0s 187us/step - loss: 1.7249 - acc: 0.4649\n",
            "Epoch 7/200\n",
            "271/271 [==============================] - 0s 196us/step - loss: 1.7062 - acc: 0.4649\n",
            "Epoch 8/200\n",
            "271/271 [==============================] - 0s 193us/step - loss: 1.6775 - acc: 0.4649\n",
            "Epoch 9/200\n",
            "271/271 [==============================] - 0s 196us/step - loss: 1.6483 - acc: 0.4649\n",
            "Epoch 10/200\n",
            "271/271 [==============================] - 0s 201us/step - loss: 1.6247 - acc: 0.4649\n",
            "Epoch 11/200\n",
            "271/271 [==============================] - 0s 192us/step - loss: 1.6016 - acc: 0.4649\n",
            "Epoch 12/200\n",
            "271/271 [==============================] - 0s 187us/step - loss: 1.5632 - acc: 0.4649\n",
            "Epoch 13/200\n",
            "271/271 [==============================] - 0s 189us/step - loss: 1.5444 - acc: 0.4649\n",
            "Epoch 14/200\n",
            "271/271 [==============================] - 0s 195us/step - loss: 1.5148 - acc: 0.4649\n",
            "Epoch 15/200\n",
            "271/271 [==============================] - 0s 184us/step - loss: 1.4964 - acc: 0.4649\n",
            "Epoch 16/200\n",
            "271/271 [==============================] - 0s 197us/step - loss: 1.4738 - acc: 0.4649\n",
            "Epoch 17/200\n",
            "271/271 [==============================] - 0s 179us/step - loss: 1.4407 - acc: 0.4649\n",
            "Epoch 18/200\n",
            "271/271 [==============================] - 0s 234us/step - loss: 1.4179 - acc: 0.4723\n",
            "Epoch 19/200\n",
            "271/271 [==============================] - 0s 220us/step - loss: 1.3824 - acc: 0.4649\n",
            "Epoch 20/200\n",
            "271/271 [==============================] - 0s 192us/step - loss: 1.3379 - acc: 0.4723\n",
            "Epoch 21/200\n",
            "271/271 [==============================] - 0s 195us/step - loss: 1.3163 - acc: 0.4723\n",
            "Epoch 22/200\n",
            "271/271 [==============================] - 0s 212us/step - loss: 1.2716 - acc: 0.4908\n",
            "Epoch 23/200\n",
            "271/271 [==============================] - 0s 200us/step - loss: 1.2556 - acc: 0.4945\n",
            "Epoch 24/200\n",
            "271/271 [==============================] - 0s 187us/step - loss: 1.2215 - acc: 0.5240\n",
            "Epoch 25/200\n",
            "271/271 [==============================] - 0s 191us/step - loss: 1.1890 - acc: 0.5277\n",
            "Epoch 26/200\n",
            "271/271 [==============================] - 0s 205us/step - loss: 1.1450 - acc: 0.5203\n",
            "Epoch 27/200\n",
            "271/271 [==============================] - 0s 192us/step - loss: 1.1280 - acc: 0.5314\n",
            "Epoch 28/200\n",
            "271/271 [==============================] - 0s 190us/step - loss: 1.0914 - acc: 0.5572\n",
            "Epoch 29/200\n",
            "271/271 [==============================] - 0s 197us/step - loss: 1.0757 - acc: 0.5609\n",
            "Epoch 30/200\n",
            "271/271 [==============================] - 0s 224us/step - loss: 1.0444 - acc: 0.5609\n",
            "Epoch 31/200\n",
            "271/271 [==============================] - 0s 193us/step - loss: 1.0061 - acc: 0.5683\n",
            "Epoch 32/200\n",
            "271/271 [==============================] - 0s 214us/step - loss: 0.9747 - acc: 0.6162\n",
            "Epoch 33/200\n",
            "271/271 [==============================] - 0s 191us/step - loss: 0.9587 - acc: 0.6531\n",
            "Epoch 34/200\n",
            "271/271 [==============================] - 0s 188us/step - loss: 0.9249 - acc: 0.6863\n",
            "Epoch 35/200\n",
            "271/271 [==============================] - 0s 196us/step - loss: 0.8718 - acc: 0.7048\n",
            "Epoch 36/200\n",
            "271/271 [==============================] - 0s 268us/step - loss: 0.8537 - acc: 0.7232\n",
            "Epoch 37/200\n",
            "271/271 [==============================] - 0s 197us/step - loss: 0.8222 - acc: 0.7601\n",
            "Epoch 38/200\n",
            "271/271 [==============================] - 0s 193us/step - loss: 0.8030 - acc: 0.7528\n",
            "Epoch 39/200\n",
            "271/271 [==============================] - 0s 186us/step - loss: 0.7592 - acc: 0.7934\n",
            "Epoch 40/200\n",
            "271/271 [==============================] - 0s 181us/step - loss: 0.7479 - acc: 0.7970\n",
            "Epoch 41/200\n",
            "271/271 [==============================] - 0s 185us/step - loss: 0.7422 - acc: 0.8118\n",
            "Epoch 42/200\n",
            "271/271 [==============================] - 0s 193us/step - loss: 0.6765 - acc: 0.8229\n",
            "Epoch 43/200\n",
            "271/271 [==============================] - 0s 196us/step - loss: 0.6787 - acc: 0.8376\n",
            "Epoch 44/200\n",
            "271/271 [==============================] - 0s 197us/step - loss: 0.6612 - acc: 0.8450\n",
            "Epoch 45/200\n",
            "271/271 [==============================] - 0s 198us/step - loss: 0.6317 - acc: 0.8524\n",
            "Epoch 46/200\n",
            "271/271 [==============================] - 0s 192us/step - loss: 0.6139 - acc: 0.8487\n",
            "Epoch 47/200\n",
            "271/271 [==============================] - 0s 190us/step - loss: 0.5858 - acc: 0.8893\n",
            "Epoch 48/200\n",
            "271/271 [==============================] - 0s 196us/step - loss: 0.5906 - acc: 0.8708\n",
            "Epoch 49/200\n",
            "271/271 [==============================] - 0s 189us/step - loss: 0.5648 - acc: 0.8598\n",
            "Epoch 50/200\n",
            "271/271 [==============================] - 0s 193us/step - loss: 0.5636 - acc: 0.8598\n",
            "Epoch 51/200\n",
            "271/271 [==============================] - 0s 191us/step - loss: 0.5180 - acc: 0.9041\n",
            "Epoch 52/200\n",
            "271/271 [==============================] - 0s 200us/step - loss: 0.4969 - acc: 0.8819\n",
            "Epoch 53/200\n",
            "271/271 [==============================] - 0s 194us/step - loss: 0.5138 - acc: 0.8672\n",
            "Epoch 54/200\n",
            "271/271 [==============================] - 0s 192us/step - loss: 0.4967 - acc: 0.9151\n",
            "Epoch 55/200\n",
            "271/271 [==============================] - 0s 231us/step - loss: 0.4609 - acc: 0.9004\n",
            "Epoch 56/200\n",
            "271/271 [==============================] - 0s 182us/step - loss: 0.4516 - acc: 0.9188\n",
            "Epoch 57/200\n",
            "271/271 [==============================] - 0s 193us/step - loss: 0.4651 - acc: 0.9004\n",
            "Epoch 58/200\n",
            "271/271 [==============================] - 0s 195us/step - loss: 0.4293 - acc: 0.9077\n",
            "Epoch 59/200\n",
            "271/271 [==============================] - 0s 195us/step - loss: 0.4226 - acc: 0.9262\n",
            "Epoch 60/200\n",
            "271/271 [==============================] - 0s 197us/step - loss: 0.4230 - acc: 0.9077\n",
            "Epoch 61/200\n",
            "271/271 [==============================] - 0s 194us/step - loss: 0.3954 - acc: 0.9041\n",
            "Epoch 62/200\n",
            "271/271 [==============================] - 0s 186us/step - loss: 0.3782 - acc: 0.9225\n",
            "Epoch 63/200\n",
            "271/271 [==============================] - 0s 190us/step - loss: 0.3462 - acc: 0.9520\n",
            "Epoch 64/200\n",
            "271/271 [==============================] - 0s 190us/step - loss: 0.3536 - acc: 0.9446\n",
            "Epoch 65/200\n",
            "271/271 [==============================] - 0s 212us/step - loss: 0.3422 - acc: 0.9446\n",
            "Epoch 66/200\n",
            "271/271 [==============================] - 0s 195us/step - loss: 0.3170 - acc: 0.9373\n",
            "Epoch 67/200\n",
            "271/271 [==============================] - 0s 197us/step - loss: 0.3098 - acc: 0.9446\n",
            "Epoch 68/200\n",
            "271/271 [==============================] - 0s 195us/step - loss: 0.3082 - acc: 0.9373\n",
            "Epoch 69/200\n",
            "271/271 [==============================] - 0s 189us/step - loss: 0.3144 - acc: 0.9299\n",
            "Epoch 70/200\n",
            "271/271 [==============================] - 0s 190us/step - loss: 0.3092 - acc: 0.9483\n",
            "Epoch 71/200\n",
            "271/271 [==============================] - 0s 197us/step - loss: 0.3103 - acc: 0.9262\n",
            "Epoch 72/200\n",
            "271/271 [==============================] - 0s 194us/step - loss: 0.2807 - acc: 0.9483\n",
            "Epoch 73/200\n",
            "271/271 [==============================] - 0s 196us/step - loss: 0.2880 - acc: 0.9336\n",
            "Epoch 74/200\n",
            "271/271 [==============================] - 0s 225us/step - loss: 0.2872 - acc: 0.9483\n",
            "Epoch 75/200\n",
            "271/271 [==============================] - 0s 194us/step - loss: 0.2588 - acc: 0.9705\n",
            "Epoch 76/200\n",
            "271/271 [==============================] - 0s 189us/step - loss: 0.2893 - acc: 0.9410\n",
            "Epoch 77/200\n",
            "271/271 [==============================] - 0s 195us/step - loss: 0.2742 - acc: 0.9483\n",
            "Epoch 78/200\n",
            "271/271 [==============================] - 0s 192us/step - loss: 0.2566 - acc: 0.9520\n",
            "Epoch 79/200\n",
            "271/271 [==============================] - 0s 191us/step - loss: 0.2663 - acc: 0.9483\n",
            "Epoch 80/200\n",
            "271/271 [==============================] - 0s 197us/step - loss: 0.2287 - acc: 0.9705\n",
            "Epoch 81/200\n",
            "271/271 [==============================] - 0s 205us/step - loss: 0.2210 - acc: 0.9520\n",
            "Epoch 82/200\n",
            "271/271 [==============================] - 0s 197us/step - loss: 0.2294 - acc: 0.9483\n",
            "Epoch 83/200\n",
            "271/271 [==============================] - 0s 203us/step - loss: 0.2061 - acc: 0.9742\n",
            "Epoch 84/200\n",
            "271/271 [==============================] - 0s 194us/step - loss: 0.2294 - acc: 0.9557\n",
            "Epoch 85/200\n",
            "271/271 [==============================] - 0s 206us/step - loss: 0.2146 - acc: 0.9520\n",
            "Epoch 86/200\n",
            "271/271 [==============================] - 0s 225us/step - loss: 0.2006 - acc: 0.9631\n",
            "Epoch 87/200\n",
            "271/271 [==============================] - 0s 213us/step - loss: 0.2075 - acc: 0.9520\n",
            "Epoch 88/200\n",
            "271/271 [==============================] - 0s 229us/step - loss: 0.1797 - acc: 0.9779\n",
            "Epoch 89/200\n",
            "271/271 [==============================] - 0s 222us/step - loss: 0.1930 - acc: 0.9668\n",
            "Epoch 90/200\n",
            "271/271 [==============================] - 0s 220us/step - loss: 0.1927 - acc: 0.9557\n",
            "Epoch 91/200\n",
            "271/271 [==============================] - 0s 292us/step - loss: 0.1968 - acc: 0.9594\n",
            "Epoch 92/200\n",
            "271/271 [==============================] - 0s 203us/step - loss: 0.1735 - acc: 0.9705\n",
            "Epoch 93/200\n",
            "271/271 [==============================] - 0s 223us/step - loss: 0.1978 - acc: 0.9557\n",
            "Epoch 94/200\n",
            "271/271 [==============================] - 0s 293us/step - loss: 0.1781 - acc: 0.9557\n",
            "Epoch 95/200\n",
            "271/271 [==============================] - 0s 343us/step - loss: 0.1448 - acc: 0.9705\n",
            "Epoch 96/200\n",
            "271/271 [==============================] - 0s 319us/step - loss: 0.1698 - acc: 0.9631\n",
            "Epoch 97/200\n",
            "271/271 [==============================] - 0s 335us/step - loss: 0.1543 - acc: 0.9742\n",
            "Epoch 98/200\n",
            "271/271 [==============================] - 0s 259us/step - loss: 0.1623 - acc: 0.9594\n",
            "Epoch 99/200\n",
            "271/271 [==============================] - 0s 260us/step - loss: 0.1821 - acc: 0.9557\n",
            "Epoch 100/200\n",
            "271/271 [==============================] - 0s 238us/step - loss: 0.1650 - acc: 0.9594\n",
            "Epoch 101/200\n",
            "271/271 [==============================] - 0s 289us/step - loss: 0.1732 - acc: 0.9668\n",
            "Epoch 102/200\n",
            "271/271 [==============================] - 0s 243us/step - loss: 0.1769 - acc: 0.9557\n",
            "Epoch 103/200\n",
            "271/271 [==============================] - 0s 273us/step - loss: 0.1504 - acc: 0.9779\n",
            "Epoch 104/200\n",
            "271/271 [==============================] - 0s 288us/step - loss: 0.1552 - acc: 0.9705\n",
            "Epoch 105/200\n",
            "271/271 [==============================] - 0s 343us/step - loss: 0.1402 - acc: 0.9668\n",
            "Epoch 106/200\n",
            "271/271 [==============================] - 0s 289us/step - loss: 0.1242 - acc: 0.9852\n",
            "Epoch 107/200\n",
            "271/271 [==============================] - 0s 277us/step - loss: 0.1256 - acc: 0.9705\n",
            "Epoch 108/200\n",
            "271/271 [==============================] - 0s 239us/step - loss: 0.1486 - acc: 0.9668\n",
            "Epoch 109/200\n",
            "271/271 [==============================] - 0s 238us/step - loss: 0.1481 - acc: 0.9631\n",
            "Epoch 110/200\n",
            "271/271 [==============================] - 0s 290us/step - loss: 0.1550 - acc: 0.9594\n",
            "Epoch 111/200\n",
            "271/271 [==============================] - 0s 278us/step - loss: 0.1223 - acc: 0.9705\n",
            "Epoch 112/200\n",
            "271/271 [==============================] - 0s 291us/step - loss: 0.1212 - acc: 0.9742\n",
            "Epoch 113/200\n",
            "271/271 [==============================] - 0s 278us/step - loss: 0.1336 - acc: 0.9742\n",
            "Epoch 114/200\n",
            "271/271 [==============================] - 0s 296us/step - loss: 0.1246 - acc: 0.9742\n",
            "Epoch 115/200\n",
            "271/271 [==============================] - 0s 277us/step - loss: 0.1095 - acc: 0.9779\n",
            "Epoch 116/200\n",
            "271/271 [==============================] - 0s 226us/step - loss: 0.1241 - acc: 0.9779\n",
            "Epoch 117/200\n",
            "271/271 [==============================] - 0s 230us/step - loss: 0.1224 - acc: 0.9705\n",
            "Epoch 118/200\n",
            "271/271 [==============================] - 0s 235us/step - loss: 0.1011 - acc: 0.9815\n",
            "Epoch 119/200\n",
            "271/271 [==============================] - 0s 249us/step - loss: 0.1115 - acc: 0.9742\n",
            "Epoch 120/200\n",
            "271/271 [==============================] - 0s 233us/step - loss: 0.1173 - acc: 0.9779\n",
            "Epoch 121/200\n",
            "271/271 [==============================] - 0s 222us/step - loss: 0.1380 - acc: 0.9557\n",
            "Epoch 122/200\n",
            "271/271 [==============================] - 0s 229us/step - loss: 0.1125 - acc: 0.9668\n",
            "Epoch 123/200\n",
            "271/271 [==============================] - 0s 230us/step - loss: 0.1037 - acc: 0.9815\n",
            "Epoch 124/200\n",
            "271/271 [==============================] - 0s 252us/step - loss: 0.1104 - acc: 0.9705\n",
            "Epoch 125/200\n",
            "271/271 [==============================] - 0s 244us/step - loss: 0.1191 - acc: 0.9631\n",
            "Epoch 126/200\n",
            "271/271 [==============================] - 0s 230us/step - loss: 0.0921 - acc: 0.9815\n",
            "Epoch 127/200\n",
            "271/271 [==============================] - 0s 221us/step - loss: 0.1075 - acc: 0.9889\n",
            "Epoch 128/200\n",
            "271/271 [==============================] - 0s 232us/step - loss: 0.1026 - acc: 0.9852\n",
            "Epoch 129/200\n",
            "271/271 [==============================] - 0s 236us/step - loss: 0.0944 - acc: 0.9742\n",
            "Epoch 130/200\n",
            "271/271 [==============================] - 0s 224us/step - loss: 0.0888 - acc: 0.9852\n",
            "Epoch 131/200\n",
            "271/271 [==============================] - 0s 228us/step - loss: 0.1195 - acc: 0.9594\n",
            "Epoch 132/200\n",
            "271/271 [==============================] - 0s 231us/step - loss: 0.1181 - acc: 0.9668\n",
            "Epoch 133/200\n",
            "271/271 [==============================] - 0s 236us/step - loss: 0.1034 - acc: 0.9815\n",
            "Epoch 134/200\n",
            "271/271 [==============================] - 0s 315us/step - loss: 0.0811 - acc: 0.9889\n",
            "Epoch 135/200\n",
            "271/271 [==============================] - 0s 222us/step - loss: 0.1230 - acc: 0.9594\n",
            "Epoch 136/200\n",
            "271/271 [==============================] - 0s 225us/step - loss: 0.0875 - acc: 0.9852\n",
            "Epoch 137/200\n",
            "271/271 [==============================] - 0s 224us/step - loss: 0.1050 - acc: 0.9815\n",
            "Epoch 138/200\n",
            "271/271 [==============================] - 0s 236us/step - loss: 0.1048 - acc: 0.9779\n",
            "Epoch 139/200\n",
            "271/271 [==============================] - 0s 248us/step - loss: 0.0943 - acc: 0.9779\n",
            "Epoch 140/200\n",
            "271/271 [==============================] - 0s 237us/step - loss: 0.0823 - acc: 0.9889\n",
            "Epoch 141/200\n",
            "271/271 [==============================] - 0s 249us/step - loss: 0.0858 - acc: 0.9779\n",
            "Epoch 142/200\n",
            "271/271 [==============================] - 0s 241us/step - loss: 0.0990 - acc: 0.9705\n",
            "Epoch 143/200\n",
            "271/271 [==============================] - 0s 246us/step - loss: 0.0923 - acc: 0.9705\n",
            "Epoch 144/200\n",
            "271/271 [==============================] - 0s 238us/step - loss: 0.0876 - acc: 0.9815\n",
            "Epoch 145/200\n",
            "271/271 [==============================] - 0s 200us/step - loss: 0.0860 - acc: 0.9815\n",
            "Epoch 146/200\n",
            "271/271 [==============================] - 0s 201us/step - loss: 0.0739 - acc: 0.9852\n",
            "Epoch 147/200\n",
            "271/271 [==============================] - 0s 198us/step - loss: 0.0839 - acc: 0.9742\n",
            "Epoch 148/200\n",
            "271/271 [==============================] - 0s 205us/step - loss: 0.0804 - acc: 0.9926\n",
            "Epoch 149/200\n",
            "271/271 [==============================] - 0s 209us/step - loss: 0.0844 - acc: 0.9889\n",
            "Epoch 150/200\n",
            "271/271 [==============================] - 0s 220us/step - loss: 0.0965 - acc: 0.9668\n",
            "Epoch 151/200\n",
            "271/271 [==============================] - 0s 219us/step - loss: 0.0819 - acc: 0.9852\n",
            "Epoch 152/200\n",
            "271/271 [==============================] - 0s 189us/step - loss: 0.0763 - acc: 0.9852\n",
            "Epoch 153/200\n",
            "271/271 [==============================] - 0s 189us/step - loss: 0.0841 - acc: 0.9852\n",
            "Epoch 154/200\n",
            "271/271 [==============================] - 0s 194us/step - loss: 0.0549 - acc: 0.9963\n",
            "Epoch 155/200\n",
            "271/271 [==============================] - 0s 192us/step - loss: 0.0766 - acc: 0.9926\n",
            "Epoch 156/200\n",
            "271/271 [==============================] - 0s 206us/step - loss: 0.0608 - acc: 0.9815\n",
            "Epoch 157/200\n",
            "271/271 [==============================] - 0s 201us/step - loss: 0.0757 - acc: 0.9889\n",
            "Epoch 158/200\n",
            "271/271 [==============================] - 0s 194us/step - loss: 0.0743 - acc: 0.9926\n",
            "Epoch 159/200\n",
            "271/271 [==============================] - 0s 203us/step - loss: 0.0923 - acc: 0.9815\n",
            "Epoch 160/200\n",
            "271/271 [==============================] - 0s 225us/step - loss: 0.0642 - acc: 0.9889\n",
            "Epoch 161/200\n",
            "271/271 [==============================] - 0s 200us/step - loss: 0.0633 - acc: 0.9889\n",
            "Epoch 162/200\n",
            "271/271 [==============================] - 0s 195us/step - loss: 0.0688 - acc: 0.9926\n",
            "Epoch 163/200\n",
            "271/271 [==============================] - 0s 196us/step - loss: 0.0786 - acc: 0.9852\n",
            "Epoch 164/200\n",
            "271/271 [==============================] - 0s 196us/step - loss: 0.0756 - acc: 0.9815\n",
            "Epoch 165/200\n",
            "271/271 [==============================] - 0s 199us/step - loss: 0.0821 - acc: 0.9742\n",
            "Epoch 166/200\n",
            "271/271 [==============================] - 0s 212us/step - loss: 0.0837 - acc: 0.9815\n",
            "Epoch 167/200\n",
            "271/271 [==============================] - 0s 208us/step - loss: 0.0730 - acc: 0.9852\n",
            "Epoch 168/200\n",
            "271/271 [==============================] - 0s 194us/step - loss: 0.0676 - acc: 0.9926\n",
            "Epoch 169/200\n",
            "271/271 [==============================] - 0s 271us/step - loss: 0.0636 - acc: 0.9889\n",
            "Epoch 170/200\n",
            "271/271 [==============================] - 0s 190us/step - loss: 0.0552 - acc: 0.9815\n",
            "Epoch 171/200\n",
            "271/271 [==============================] - 0s 215us/step - loss: 0.0716 - acc: 0.9852\n",
            "Epoch 172/200\n",
            "271/271 [==============================] - 0s 206us/step - loss: 0.0593 - acc: 0.9889\n",
            "Epoch 173/200\n",
            "271/271 [==============================] - 0s 212us/step - loss: 0.0582 - acc: 0.9926\n",
            "Epoch 174/200\n",
            "271/271 [==============================] - 0s 199us/step - loss: 0.0737 - acc: 0.9815\n",
            "Epoch 175/200\n",
            "271/271 [==============================] - 0s 262us/step - loss: 0.0623 - acc: 0.9815\n",
            "Epoch 176/200\n",
            "271/271 [==============================] - 0s 210us/step - loss: 0.0549 - acc: 0.9889\n",
            "Epoch 177/200\n",
            "271/271 [==============================] - 0s 209us/step - loss: 0.0571 - acc: 0.9889\n",
            "Epoch 178/200\n",
            "271/271 [==============================] - 0s 204us/step - loss: 0.0683 - acc: 0.9779\n",
            "Epoch 179/200\n",
            "271/271 [==============================] - 0s 190us/step - loss: 0.0631 - acc: 0.9852\n",
            "Epoch 180/200\n",
            "271/271 [==============================] - 0s 185us/step - loss: 0.0610 - acc: 0.9852\n",
            "Epoch 181/200\n",
            "271/271 [==============================] - 0s 192us/step - loss: 0.0628 - acc: 0.9889\n",
            "Epoch 182/200\n",
            "271/271 [==============================] - 0s 201us/step - loss: 0.0654 - acc: 0.9889\n",
            "Epoch 183/200\n",
            "271/271 [==============================] - 0s 200us/step - loss: 0.0541 - acc: 0.9963\n",
            "Epoch 184/200\n",
            "271/271 [==============================] - 0s 207us/step - loss: 0.0638 - acc: 0.9852\n",
            "Epoch 185/200\n",
            "271/271 [==============================] - 0s 196us/step - loss: 0.0674 - acc: 0.9889\n",
            "Epoch 186/200\n",
            "271/271 [==============================] - 0s 282us/step - loss: 0.0611 - acc: 0.9852\n",
            "Epoch 187/200\n",
            "271/271 [==============================] - 0s 212us/step - loss: 0.0580 - acc: 0.9926\n",
            "Epoch 188/200\n",
            "271/271 [==============================] - 0s 204us/step - loss: 0.0539 - acc: 0.9889\n",
            "Epoch 189/200\n",
            "271/271 [==============================] - 0s 216us/step - loss: 0.0500 - acc: 0.9852\n",
            "Epoch 190/200\n",
            "271/271 [==============================] - 0s 223us/step - loss: 0.0578 - acc: 0.9852\n",
            "Epoch 191/200\n",
            "271/271 [==============================] - 0s 209us/step - loss: 0.0638 - acc: 0.9705\n",
            "Epoch 192/200\n",
            "271/271 [==============================] - 0s 204us/step - loss: 0.0642 - acc: 0.9889\n",
            "Epoch 193/200\n",
            "271/271 [==============================] - 0s 201us/step - loss: 0.0479 - acc: 0.9926\n",
            "Epoch 194/200\n",
            "271/271 [==============================] - 0s 194us/step - loss: 0.0440 - acc: 0.9926\n",
            "Epoch 195/200\n",
            "271/271 [==============================] - 0s 188us/step - loss: 0.0556 - acc: 0.9815\n",
            "Epoch 196/200\n",
            "271/271 [==============================] - 0s 193us/step - loss: 0.0673 - acc: 0.9889\n",
            "Epoch 197/200\n",
            "271/271 [==============================] - 0s 186us/step - loss: 0.0389 - acc: 0.9963\n",
            "Epoch 198/200\n",
            "271/271 [==============================] - 0s 188us/step - loss: 0.0279 - acc: 1.0000\n",
            "Epoch 199/200\n",
            "271/271 [==============================] - 0s 200us/step - loss: 0.0452 - acc: 0.9926\n",
            "Epoch 200/200\n",
            "271/271 [==============================] - 0s 209us/step - loss: 0.0504 - acc: 0.9926\n"
          ],
          "name": "stdout"
        },
        {
          "output_type": "stream",
          "text": [
            "INFO:rasa_core.policies.keras_policy:Done fitting keras policy model\n",
            "INFO:rasa_core.agent:Persisted model to '/content/models/dialogue'\n"
          ],
          "name": "stderr"
        }
      ]
    },
    {
      "metadata": {
        "id": "c4911z6y-5rD",
        "colab_type": "text"
      },
      "cell_type": "markdown",
      "source": [
        "# Talk to your Bot"
      ]
    },
    {
      "metadata": {
        "id": "nE4coPam5hry",
        "colab_type": "code",
        "outputId": "c8ec135b-882b-4e9e-a955-f3e184177817",
        "colab": {
          "base_uri": "https://localhost:8080/",
          "height": 34
        }
      },
      "cell_type": "code",
      "source": [
        "#Starting the Bot\n",
        "\n",
        "from rasa_core.agent import Agent\n",
        "agent = Agent.load('models/dialogue', interpreter=model_directory)"
      ],
      "execution_count": 0,
      "outputs": [
        {
          "output_type": "stream",
          "text": [
            "INFO:rasa_nlu.components:Added 'nlp_spacy' to component cache. Key 'nlp_spacy-en'.\n"
          ],
          "name": "stderr"
        }
      ]
    },
    {
      "metadata": {
        "id": "DDVLzhAT5yrP",
        "colab_type": "code",
        "outputId": "aee3fc83-df97-42b4-c7e0-c8929f76337c",
        "colab": {
          "base_uri": "https://localhost:8080/",
          "height": 292
        }
      },
      "cell_type": "code",
      "source": [
        "print(\"Your bot is ready to talk! Type your messages here or send 'stop'\")\n",
        "while True:\n",
        "    a = input()\n",
        "    if a == 'stop':\n",
        "        break\n",
        "    responses = agent.handle_message(a)\n",
        "    for response in responses:\n",
        "        print(response[\"text\"])\n",
        "        "
      ],
      "execution_count": 0,
      "outputs": [
        {
          "output_type": "stream",
          "text": [
            "Your bot is ready to talk! Type your messages here or send 'stop'\n",
            "Hello\n",
            "Hey! How are you?\n",
            "I am unhappy\n",
            "To cheer you up, I can show you a cute picture of a dog, cat or a bird. Which one do you choose?\n",
            "yes. SHow me a cat\n",
            "Here is something to cheer you up: https://cdn.shibe.online/cats/692a286d46970ae1ca8ea15910de4ce000d8d219.jpg\n",
            "Did that help you?\n",
            "Yes\n",
            "Great carry on!\n",
            "Bye\n",
            "Bye\n",
            "Stop\n",
            "Hey! How are you?\n",
            "stop\n"
          ],
          "name": "stdout"
        }
      ]
    },
    {
      "metadata": {
        "id": "enJNkbvB54y1",
        "colab_type": "code",
        "colab": {}
      },
      "cell_type": "code",
      "source": [
        ""
      ],
      "execution_count": 0,
      "outputs": []
    }
  ]
}